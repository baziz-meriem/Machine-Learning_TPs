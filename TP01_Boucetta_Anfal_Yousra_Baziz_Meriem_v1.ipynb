{
  "cells": [
    {
      "cell_type": "markdown",
      "id": "45f80e9b",
      "metadata": {
        "id": "45f80e9b"
      },
      "source": [
        "# 2CS SIQ2-SIL2 TP01. Régression linéaire et logistique binaire\n",
        "\n",
        "Dans ce TP, nous allons traiter la régression linéaire et logistique binaire.\n",
        "Dans la partie I, nous allons implémenter les deux méthodes en utilisant numpy.\n",
        "Dans la partie II, quelques expérimentations serons présentées où nous devons discuter les résulats."
      ]
    },
    {
      "cell_type": "markdown",
      "id": "2245b050",
      "metadata": {
        "id": "2245b050"
      },
      "source": [
        "- **Binôme 01** : Boucetta Anfal Yousra \n",
        "- **Binôme 02** : Baziz Meriem\n",
        "- **Groupe** : SIQ2|SIL2"
      ]
    },
    {
      "cell_type": "code",
      "execution_count": null,
      "id": "be907956",
      "metadata": {
        "colab": {
          "base_uri": "https://localhost:8080/"
        },
        "id": "be907956",
        "outputId": "6c7ef1aa-6825-4afd-aca4-9fdb3365559e"
      },
      "outputs": [
        {
          "output_type": "execute_result",
          "data": {
            "text/plain": [
              "('1.22.4', '1.3.5', '3.5.3')"
            ]
          },
          "metadata": {},
          "execution_count": 1
        }
      ],
      "source": [
        "import matplotlib\n",
        "import numpy             as np\n",
        "import pandas            as pd\n",
        "import matplotlib.pyplot as plt\n",
        "%matplotlib inline\n",
        "\n",
        "np.__version__, pd.__version__, matplotlib.__version__"
      ]
    },
    {
      "cell_type": "code",
      "execution_count": null,
      "id": "741ccd6f",
      "metadata": {
        "colab": {
          "base_uri": "https://localhost:8080/",
          "height": 35
        },
        "id": "741ccd6f",
        "outputId": "8f344e7a-7fdb-4702-bc18-a59f39074c0a"
      },
      "outputs": [
        {
          "output_type": "execute_result",
          "data": {
            "text/plain": [
              "'1.2.1'"
            ],
            "application/vnd.google.colaboratory.intrinsic+json": {
              "type": "string"
            }
          },
          "metadata": {},
          "execution_count": 2
        }
      ],
      "source": [
        "from typing          import Tuple, List, Type\n",
        "from collections.abc import Callable\n",
        "import sklearn\n",
        "\n",
        "sklearn.__version__"
      ]
    },
    {
      "cell_type": "markdown",
      "id": "e4e3e485",
      "metadata": {
        "id": "e4e3e485"
      },
      "source": [
        "## I. Réalisation des algorithmes\n",
        "\n",
        "Dans cette partie, nous allons implémenter les fonctions de régression à partir de zéro (from scratch). \n",
        "Cela va nous permettre à comprendre COMMENT les algorithmes fonctionnent : leurs complexités (temporelles et spatiales) et leurs paramètres.\n",
        "Pour ce faire, nous allons utiliser la bibliothèque **numpy** qui est utile dans les calcules surtout matricielles.\n",
        "\n",
        "### I.1. Régression linéaire\n",
        "\n",
        "Premièrement, nous allons implémenter les fonctions nécessaire pour la régression linéaire.\n",
        "\n",
        "#### I.1.1. Fonction de prédiction\n",
        "\n",
        "$$Z = zf(X, theta) = \\theta_0 + \\sum\\limits_{j=1}^{N} \\theta_j X_j = \\sum\\limits_{j=0}^{N} \\theta_j X_j | X_0 = 1 $$\n",
        "\n",
        "- **X[M, N]** : une matrice de M échantillons et N caractéristiques. Afin d'introduire $\\theta_0$, cette matrice est augmentée par une colonne $X_0 = 1$. Supposons que cela est déjà fait. Donc, la caractéristique 0  est le biais.\n",
        "- **$\\theta$[N]** : un vecteur des paramètres (poids des caractéristiques). Supposons que le biais est déjà ajouté.\n",
        "- **Z(X, $\\theta$)[M]** : un vecteur des préditions de chaque échantillon."
      ]
    },
    {
      "cell_type": "code",
      "execution_count": null,
      "id": "535fe535",
      "metadata": {
        "colab": {
          "base_uri": "https://localhost:8080/"
        },
        "id": "535fe535",
        "outputId": "c46dc978-2e99-4200-85a6-dd42ac1af026"
      },
      "outputs": [
        {
          "output_type": "execute_result",
          "data": {
            "text/plain": [
              "array([1. , 1.7, 2.4])"
            ]
          },
          "metadata": {},
          "execution_count": 7
        }
      ],
      "source": [
        "# TODO: Combinaison linéaire\n",
        "def zf(X    : 'np.ndarray[M, N]', \n",
        "       Theta: 'np.ndarray[N]'   ) -> 'np.ndarray[M]': #type hinting \n",
        "    resultat = X@Theta\n",
        "    return resultat\n",
        "\n",
        "#=====================================================================\n",
        "# TEST UNITAIRE\n",
        "#=====================================================================\n",
        "# Resultat : array([1. , 1.7, 2.4])\n",
        "#---------------------------------------------------------------------\n",
        "X_t     = np.array([[1., 100.], \n",
        "                    [1., 200.], \n",
        "                    [1., 300.]])\n",
        "Theta_t = np.array([0.3, 0.007])\n",
        "zf(X_t, Theta_t)"
      ]
    },
    {
      "cell_type": "markdown",
      "id": "42a9aaa1",
      "metadata": {
        "id": "42a9aaa1"
      },
      "source": [
        "#### I.1.2. Fonction du coût\n",
        "\n",
        "La fonction du coût calcule l'erreur d'estimation. \n",
        "Ici, nous allons utiliser l'erreur quadratique moyenne (MSE: mean square error). \n",
        "\n",
        "$$J = MSE(Y, H) = \\frac{1}{2M} \\sum\\limits_{i=1}^{M} (Y - H)^2$$\n",
        "\n",
        "- **Y[M]** : un vecteur des sorties réelles.\n",
        "- **H[M]** : un vecteur des prédictions où $H = Z(X, \\theta)$.\n",
        "- **MSE(Y, H)** : une valeur réelle représentant l'erreur de régression."
      ]
    },
    {
      "cell_type": "code",
      "execution_count": null,
      "id": "0bb78d63",
      "metadata": {
        "colab": {
          "base_uri": "https://localhost:8080/"
        },
        "id": "0bb78d63",
        "outputId": "57a10f58-1feb-4091-f424-2dca4cf19584"
      },
      "outputs": [
        {
          "output_type": "execute_result",
          "data": {
            "text/plain": [
              "0.016666666666666673"
            ]
          },
          "metadata": {},
          "execution_count": 8
        }
      ],
      "source": [
        "# TODO: Fonction du coût MSE\n",
        "def MSE(Y: 'np.ndarray[M]', \n",
        "        H: 'np.ndarray[M]') -> float:\n",
        "    vect = (Y-H)**2\n",
        "    return (1/(2*vect.shape[0]))*np.sum(vect)\n",
        "\n",
        "#=====================================================================\n",
        "# TEST UNITAIRE\n",
        "#=====================================================================\n",
        "# Resultat : 0.016666666666666673\n",
        "#---------------------------------------------------------------------\n",
        "H_t = np.array([1. , 1.7, 2.4])\n",
        "Y_t = np.array([1., 2., 2.5])\n",
        "MSE(Y_t, H_t)"
      ]
    },
    {
      "cell_type": "markdown",
      "id": "e543323b",
      "metadata": {
        "id": "e543323b"
      },
      "source": [
        "Le gradient de cette fonction est calculé comme suit (Où $X^{(i)}$ est l'échantillon $i$ et $Y^{(i)}$ est la prédiction. $X_0^{(i)} = 1$) : \n",
        "\n",
        "$$\\frac{\\partial MSE}{\\partial \\theta_j} \n",
        "= \\frac{\\partial }{\\partial \\theta_j} \\frac{1}{2M} \\sum\\limits_{i=1}^{M} (Y^{(i)} - H^{(i)})^2 \n",
        "= \\frac{1}{2M} \\sum\\limits_{i=1}^{M} [\\frac{\\partial }{\\partial \\theta_j} (Y^{(i)} - H^{(i)})^2]\n",
        "= \\frac{1}{2M} \\sum\\limits_{i=1}^{M} [-2 (Y^{(i)} - H^{(i)}) \\frac{\\partial }{\\partial \\theta_j} H^{(i)}]\n",
        "$$\n",
        "\n",
        "$$\\frac{\\partial MSE}{\\partial \\theta_j}\n",
        "= \\frac{1}{M} \\sum\\limits_{i=1}^{M} [(H^{(i)} - Y^{(i)}) \\frac{\\partial }{\\partial \\theta_j} \\sum\\limits_{k=0}^{N} \\theta_k X_k^{(i)}]\n",
        "= \\frac{1}{M} \\sum\\limits_{i=1}^{M} [(H^{(i)} - Y^{(i)}) \\frac{\\partial }{\\partial \\theta_j} \\theta_j X_j^{(i)}]\n",
        "$$\n",
        "\n",
        "$$\\frac{\\partial MSE}{\\partial \\theta_j} = \\frac{1}{M} \\sum\\limits_{i=1}^{M} (H^{(i)} - Y^{(i)}) X_j^{(i)}$$\n",
        "\n",
        "- **X[M, N]** : une matrice de M échantillons et N caractéristiques. \n",
        "- **Y[M]** : un vecteur des sorties réelles.\n",
        "- **H[M]** : un vecteur des prédictions où $H = Z(X, \\theta)$.\n",
        "- **dMSE(X, Y, H)[N]** : les gradients de chaque caractéristique."
      ]
    },
    {
      "cell_type": "code",
      "execution_count": null,
      "id": "3f82adf2",
      "metadata": {
        "colab": {
          "base_uri": "https://localhost:8080/"
        },
        "id": "3f82adf2",
        "outputId": "7dce2003-1a83-42f5-f604-9d4ed7410ada"
      },
      "outputs": [
        {
          "output_type": "execute_result",
          "data": {
            "text/plain": [
              "array([ -0.13333333, -30.        ])"
            ]
          },
          "metadata": {},
          "execution_count": 5
        }
      ],
      "source": [
        "# TODO: Gradients MSE\n",
        "def dMSE(X: 'np.ndarray[M, N]', \n",
        "         Y: 'np.ndarray[M]'   , \n",
        "         H: 'np.ndarray[M]'   ) -> 'np.ndarray[N]':\n",
        "    vect = (H-Y)@X\n",
        "    return (1/Y.shape[0])*(vect)\n",
        "#=====================================================================\n",
        "# TEST UNITAIRE\n",
        "#=====================================================================\n",
        "# Resultat : array([ -0.13333333, -30.        ])\n",
        "#---------------------------------------------------------------------\n",
        "X_t = np.array([[1., 100.], \n",
        "                [1., 200.], \n",
        "                [1., 300.]])\n",
        "H_t = np.array([1. , 1.7, 2.4])\n",
        "Y_t = np.array([1., 2., 2.5])\n",
        "dMSE(X_t, Y_t, H_t)"
      ]
    },
    {
      "cell_type": "markdown",
      "id": "68216bd2",
      "metadata": {
        "id": "68216bd2"
      },
      "source": [
        "### I.2. Régression logistique\n",
        "\n",
        "Ici, nous allons implémenter la régression logistique qui est basée sur la combinaison linéaire de la régression linaire.\n",
        "Il suffit d'appliquer la fonction logistique sur cette combinaison afin de la transformer à une probabilité.\n",
        "\n",
        "#### I.2.1. Fonction de prédiction\n",
        "\n",
        "La fonction logistique est calculée comme suit :\n",
        "\n",
        "$$\\sigma(Z) = \\frac{1}{1+e^{-Z}}$$\n",
        "\n",
        "- **Z[M]** : un vecteur des sommes pondérées $Z(X, \\theta)$.\n",
        "- **$\\sigma$(Z)[M]** : un vecteur des prédictions. \n",
        "- Normalement, cette fonction doit marcher avec un scalaire, un vecteur ou une matrice. Pour l'instant, nous nous intéressons par le cas d'un vecteur."
      ]
    },
    {
      "cell_type": "code",
      "execution_count": null,
      "id": "cc7b9af1",
      "metadata": {
        "colab": {
          "base_uri": "https://localhost:8080/"
        },
        "id": "cc7b9af1",
        "outputId": "efdebb7b-ecc0-4dfa-aa71-657301d321e4"
      },
      "outputs": [
        {
          "output_type": "execute_result",
          "data": {
            "text/plain": [
              "array([0.26894142, 0.73105858])"
            ]
          },
          "metadata": {},
          "execution_count": 10
        }
      ],
      "source": [
        "# TODO: Fonction logistique\n",
        "def sg(Z: 'np.ndarray[M]') -> 'np.ndarray[M]': \n",
        "      return (1/(1+np.exp(-Z)))\n",
        "\n",
        "#=====================================================================\n",
        "# TEST UNITAIRE\n",
        "#=====================================================================\n",
        "# Resultat : array([0.26894142, 0.73105858])\n",
        "#---------------------------------------------------------------------\n",
        "sg(np.array([-1, 1]))"
      ]
    },
    {
      "cell_type": "markdown",
      "id": "22dc6e90",
      "metadata": {
        "id": "22dc6e90"
      },
      "source": [
        "La fonction de prédiction sera :\n",
        "\n",
        "$$H(X, \\theta) = \\sigma(Z(X, \\theta)) $$\n",
        "\n",
        "- **X[M, N]** : une matrice de M échantillons et N caractéristiques.\n",
        "- **$\\theta$[N]** : un vecteur des paramètres (poids des caractéristiques).\n",
        "- **Z(X, $\\theta$)[M]** : un vecteur des sommes pondérées de chaque échantillon.\n",
        "- **H(X, $\\theta$)[M]** : un vecteur des prédictions de chaque échantillon."
      ]
    },
    {
      "cell_type": "code",
      "execution_count": null,
      "id": "85d16e75",
      "metadata": {
        "colab": {
          "base_uri": "https://localhost:8080/"
        },
        "id": "85d16e75",
        "outputId": "10d4f0d7-e4cb-4c12-8a27-545147324bd2"
      },
      "outputs": [
        {
          "output_type": "execute_result",
          "data": {
            "text/plain": [
              "array([0.73105858, 0.55724785, 0.14185106])"
            ]
          },
          "metadata": {},
          "execution_count": 11
        }
      ],
      "source": [
        "# TODO: Prédiction (régression logistique)\n",
        "def Hf_log(X    : 'np.ndarray[M, N]', \n",
        "           Theta: 'np.ndarray[N]'   ) -> 'np.ndarray[M]':\n",
        "     return sg(zf(X, Theta))\n",
        "\n",
        "#=====================================================================\n",
        "# TEST UNITAIRE\n",
        "#=====================================================================\n",
        "# Resultat : array([0.73105858, 0.55724785, 0.14185106])\n",
        "#---------------------------------------------------------------------\n",
        "X_t = np.array([[1., -100.], \n",
        "                [1.,   10.], \n",
        "                [1., 300.]])\n",
        "Theta_t = np.array([0.3, -0.007])\n",
        "Hf_log(X_t, Theta_t)"
      ]
    },
    {
      "cell_type": "markdown",
      "id": "e146af18",
      "metadata": {
        "id": "e146af18"
      },
      "source": [
        "#### I.2.2. Fonction du coût\n",
        "\n",
        "Ici, nous allons utiliser l'entropie croisée binaire (BCE: Binary Cross Entropy Loss) comme fonction du coût.\n",
        "C'est la fontion utilisée dans le cas de classement binaire.\n",
        "\n",
        "$$BCE(Y^{(i)}, H^{(i)})\n",
        "= \\begin{cases}\n",
        "- \\log(H^{(i)}) & \\text{ si } Y^{(i)} = 1\\\\ \n",
        "- \\log(1 - H^{(i)})  & \\text{ si } Y^{(i)} = 0\n",
        "\\end{cases}\n",
        "$$\n",
        "Puisque $Y^{(i)} \\in \\{0, 1\\}$, donc : \n",
        "\n",
        "$$ BCE(Y^{(i)}, H^{(i)}) = - Y^{(i)} \\log(H^{(i)}) - (1- Y^{(i)}) \\log(1 - H^{(i)}) $$\n",
        "\n",
        "$$J = BCE(Y, H) = \\frac{-1}{M} \\sum\\limits_{i=1}^{M} [Y^{(i)} \\log(H^{(i)}) + (1- Y^{(i)}) \\log(1 - H^{(i)})]$$\n",
        "\n",
        "En pratique, on doit ajouter une petite valeur $\\epsilon$ à l'argument de la fonction $\\log$ afin d'éviter $\\log(0)$.\n",
        "\n",
        "- **Y[M]** : un vecteur des sorties réelles.\n",
        "- **H[M]** : un vecteur des prédictions.\n",
        "- **BCE(Y, H)** : une valeur réelle représentant l'erreur de classement."
      ]
    },
    {
      "cell_type": "code",
      "execution_count": null,
      "id": "d315971c",
      "metadata": {
        "colab": {
          "base_uri": "https://localhost:8080/"
        },
        "id": "d315971c",
        "outputId": "37308ea4-c4ab-430e-bf68-c9fa159a3f22"
      },
      "outputs": [
        {
          "output_type": "execute_result",
          "data": {
            "text/plain": [
              "(0.6181210324473607, 0.6181210113362499)"
            ]
          },
          "metadata": {},
          "execution_count": 12
        }
      ],
      "source": [
        "# TODO: Fonction du coût BCE\n",
        "def BCE(Y  : 'np.ndarray[M]', \n",
        "        H  : 'np.ndarray[M]', \n",
        "        eps: float = 1e-8   ) -> float: \n",
        "    \n",
        "          return (-1/Y.shape[0])*(Y@np.log(H+eps) + (1-Y)@np.log(1-H+eps))\n",
        "#=====================================================================\n",
        "# TEST UNITAIRE\n",
        "#=====================================================================\n",
        "# Resultat (sans epsilon, avec) : (0.6181210324473608, 0.61812101133625)\n",
        "#---------------------------------------------------------------------\n",
        "Y_t = np.array([1., 0., 0., 1.])\n",
        "H_t = np.array([0.25, 0.25, 0.5, 0.9])\n",
        "BCE(Y_t, H_t, eps=0), BCE(Y_t, H_t)\n"
      ]
    },
    {
      "cell_type": "markdown",
      "id": "2e251194",
      "metadata": {
        "id": "2e251194"
      },
      "source": [
        "Le gradient de cette fonction est calculé comme suit : \n",
        "\n",
        "$$\\frac{\\partial BCE}{\\partial \\theta_j} \n",
        "= \\frac{-1}{M} \\sum\\limits_{i=1}^{M} \\frac{\\partial}{\\partial \\theta_j} [Y^{(i)} \\log(H^{(i)}) + (1- Y^{(i)}) \\log(1 - H^{(i)})]\n",
        "$$\n",
        "\n",
        "$$\\frac{\\partial BCE}{\\partial \\theta_j} \n",
        "= \\frac{-1}{M} \\sum\\limits_{i=1}^{M} [ Y^{(i)} \\frac{\\partial}{\\partial \\theta_j} \\log(H^{(i)}) + (1- Y^{(i)}) \\frac{\\partial}{\\partial \\theta_j}\\log(1 - H^{(i)})]\n",
        "$$\n",
        "\n",
        "$$\\frac{\\partial BCE}{\\partial \\theta_j} \n",
        "= \\frac{-1}{M} \\sum\\limits_{i=1}^{M} [ Y^{(i)} \\frac{1}{H^{(i)}} \\frac{\\partial}{\\partial \\theta_j} H^{(i)} + (1- Y^{(i)}) \\frac{-1}{1-H^{(i)}} \\frac{\\partial}{\\partial \\theta_j} H^{(i)})]\n",
        "= \\frac{-1}{M} \\sum\\limits_{i=1}^{M} \\frac{Y^{(i)}-H^{(i)}}{H^{(i)}(1-H^{(i)})} \\frac{\\partial}{\\partial \\theta_j} H^{(i)}\n",
        "$$\n",
        "\n",
        "$$\\frac{\\partial H^{(i)}}{\\partial \\theta_j} \n",
        "= \\frac{\\partial \\sigma(Z^{(i)})}{\\partial Z^{(i)}} \\frac{\\partial Z^{(i)}}{\\partial \\theta_j} \n",
        "= [\\sigma(Z^{(i)}) (1-\\sigma(Z^{(i)}))]\\frac{\\partial}{\\partial \\theta_j} \\sum\\limits_{k=0}^{N} \\theta_k X_k^{(i)}  \n",
        "= H^{(i)} (1-H^{(i)})  X_j^{(i)}\n",
        "$$\n",
        "\n",
        "$$\\frac{\\partial BCE}{\\partial \\theta_j} \n",
        "= \\frac{-1}{M} \\sum\\limits_{i=1}^{M} \\frac{Y^{(i)}-H^{(i)}}{H^{(i)}(1-H^{(i)})} [H^{(i)} (1-H^{(i)}) X_j^{(i)}]\n",
        "$$\n",
        "\n",
        "$$\\frac{\\partial BCE}{\\partial \\theta_j} = \\frac{1}{M} \\sum\\limits_{i=1}^{M} (H^{(i)} - Y^{(i)}) X_j^{(i)}$$\n",
        "\n",
        "- \n",
        "Où $X^{(i)}$ est l'échantillon $i$ et $Y^{(i)}$ est la prédiction. $X_0^{(i)} = 1$"
      ]
    },
    {
      "cell_type": "code",
      "execution_count": null,
      "id": "49495c49",
      "metadata": {
        "colab": {
          "base_uri": "https://localhost:8080/"
        },
        "id": "49495c49",
        "outputId": "75e2debe-cac8-46b8-f134-2a798620f346"
      },
      "outputs": [
        {
          "output_type": "execute_result",
          "data": {
            "text/plain": [
              "array([-0.08333333, -0.25      ])"
            ]
          },
          "metadata": {},
          "execution_count": 13
        }
      ],
      "source": [
        "# La fonction de gradient BCE est la même que celle de MSE\n",
        "# Donc, je vais l'implémenter moi-même puisque c'est facile\n",
        "dBCE = dMSE\n",
        "\n",
        "#=====================================================================\n",
        "# TEST UNITAIRE\n",
        "#=====================================================================\n",
        "# Resultat : array([-0.08333333, -0.25      ])\n",
        "#---------------------------------------------------------------------\n",
        "X_t = np.array([[1., 5.], \n",
        "                [1., 10.], \n",
        "                [1., 8]])\n",
        "H_t = np.array([2.75, 5.25, 4.25])\n",
        "Y_t = np.array([3., 5., 4.5])\n",
        "dMSE(X_t, Y_t, H_t)"
      ]
    },
    {
      "cell_type": "markdown",
      "id": "d589d278",
      "metadata": {
        "id": "d589d278"
      },
      "source": [
        "### I.3. Descente du gradient \n",
        "\n",
        "La descente du gradient est un algorithme itératif.\n",
        "Pour chaque itération, nous calculons l'erreur et le gradient.\n",
        "Ensuite, nous mettons à jours les paramètres en se basant sur ces gradients.\n",
        "Si la condition d'arrêt est satisfaite, nous sortons de l'algorithme.\n",
        "\n",
        "#### I.3.1. Arrêt de la descente\n",
        "\n",
        "Dans notre cas, la fonction d'arrêt est basée sur ces arguments :\n",
        "- L'erreur courante $Jc$ et l'erreur passée $Jp$\n",
        "- Le maximum des itérations $IT$ et l'itération courante $it$\n",
        "\n",
        "Cette fonction retourne $True$ si :\n",
        "- Le nombre maximal des itérations a été atteint\n",
        "- L'argument $up=True$ et l'erreur a augmenté"
      ]
    },
    {
      "cell_type": "code",
      "execution_count": null,
      "id": "51425024",
      "metadata": {
        "colab": {
          "base_uri": "https://localhost:8080/"
        },
        "id": "51425024",
        "outputId": "6ef5e992-ba94-4fec-b21a-31d651fb74e2"
      },
      "outputs": [
        {
          "output_type": "execute_result",
          "data": {
            "text/plain": [
              "(False, True, True, False)"
            ]
          },
          "metadata": {},
          "execution_count": 14
        }
      ],
      "source": [
        "# TODO: Fonction d'arret de la descente du gradient\n",
        "def arreter(Jp: float    , \n",
        "            Jc: float    , \n",
        "            IT: int      , \n",
        "            it: int      , \n",
        "            up: bool=True) -> bool:\n",
        "     if ((it==IT)|((up==True)&(Jc>Jp))):\n",
        "        return True\n",
        "     else:\n",
        "        return False\n",
        "\n",
        "#=====================================================================\n",
        "# TEST UNITAIRE\n",
        "#=====================================================================\n",
        "# Resultat : (False, True, True, False)\n",
        "#---------------------------------------------------------------------\n",
        "arreter(0.5, 0.2, 100, 0), \\\n",
        "arreter(0.1, 0.2, 100, 5), \\\n",
        "arreter(0.5, 0.2, 100, 100), \\\n",
        "arreter(0.1, 0.2, 100, 5, up=False)"
      ]
    },
    {
      "cell_type": "markdown",
      "id": "eada0c36",
      "metadata": {
        "id": "eada0c36"
      },
      "source": [
        "#### I.3.2. Mise à jours des paramètres\n",
        "\n",
        "Rendre de nouveaux paramètres mis à jours en se basant sur les anciens paramètres $\\theta$, le gradient $\\frac{\\partial J}{\\partial \\theta_j}$ et le taux d'apprentissage $\\alpha$.\n",
        "\n",
        "$$\\forall j \\le N, \\theta_j = \\theta_j - \\alpha \\frac{\\partial J}{\\partial \\theta}$$\n",
        "\n",
        "Il faut rendre un vecteur des paramètres mis à jours sans modifier l'original (principe d'atomacité)"
      ]
    },
    {
      "cell_type": "code",
      "execution_count": null,
      "id": "928e4d10",
      "metadata": {
        "colab": {
          "base_uri": "https://localhost:8080/"
        },
        "id": "928e4d10",
        "outputId": "6e58fb57-7bca-47ac-af58-eae7a143c6cd"
      },
      "outputs": [
        {
          "output_type": "execute_result",
          "data": {
            "text/plain": [
              "array([0.30013333, 0.037     ])"
            ]
          },
          "metadata": {},
          "execution_count": 15
        }
      ],
      "source": [
        "# TODO: Mise à jours des paramètres\n",
        "def maj_param(Theta: 'np.ndarray[N]', \n",
        "              dJ   : 'np.ndarray[N]', \n",
        "              alpha: float          ) -> 'np.ndarray[N]':\n",
        "    return Theta-(alpha*dJ)\n",
        "\n",
        "#=====================================================================\n",
        "# TEST UNITAIRE\n",
        "#=====================================================================\n",
        "# Resultat : array([0.30013333, 0.037     ])\n",
        "#---------------------------------------------------------------------\n",
        "Theta_t = np.array([0.3, 0.007])\n",
        "Gradient_t = np.array([ -0.13333333, -30.])\n",
        "alpha_t = 0.001\n",
        "maj_param(Theta_t, Gradient_t, alpha_t)"
      ]
    },
    {
      "cell_type": "markdown",
      "id": "dfe2cf09",
      "metadata": {
        "id": "dfe2cf09"
      },
      "source": [
        "#### I.3.3. Descente du gradient \n",
        "\n",
        "**Rien à programmer ici**\n",
        "\n",
        "Dans cette fonction, nous allons itérer jusqu'à arriver au nombre max des itérations (pas d'autres conditions d'arrêt).\n",
        "\n",
        "- **X[M, N]** : une matrice de M échantillons et N caractéristiques.\n",
        "- **Y[M]** : un vecteur des sorties réelles.\n",
        "- **$\\theta$[N]** : un vecteur des paramètres (poids des caractéristiques).\n"
      ]
    },
    {
      "cell_type": "code",
      "execution_count": null,
      "id": "0e909e86",
      "metadata": {
        "colab": {
          "base_uri": "https://localhost:8080/"
        },
        "id": "0e909e86",
        "outputId": "4124774e-12f2-46a9-a616-a0f01bb96c7b"
      },
      "outputs": [
        {
          "output_type": "execute_result",
          "data": {
            "text/plain": [
              "(array([ 0.66632271, -0.12058394,  0.93814202]), 0.6851969300532375)"
            ]
          },
          "metadata": {},
          "execution_count": 16
        }
      ],
      "source": [
        "# La fonction de la descente du gradient\n",
        "def descente(X    : 'np.ndarray[M, N]', # Matrice des echantillons (obligatoire)\n",
        "             Y    : 'np.ndarray[M]'   , # Vecteur des classes (obligatoire)\n",
        "             Theta: 'np.ndarray[N]'   , # Paramètres (obligatoire)\n",
        "             IT   : int      = 100    , # nombre maximal des itérations\n",
        "             alpha: float    = 0.01   , # taux d'apprentissage\n",
        "             up   : bool     = False  , # si on s'arrete si l'erreur augmente\n",
        "             Hf   : Callable = Hf_log , # la fonction qui calule la sortie\n",
        "             Jf   : Callable = BCE    , # la fonction du coût\n",
        "             dJf  : Callable = dBCE     # la fonction du gradient\n",
        "            ) -> Tuple[List[np.ndarray], List[float]]: \n",
        "     \n",
        "    couts  = []           # historique des coûts\n",
        "    Thetas = []           # historique des thetas\n",
        "    Theta  = Theta.copy() # une copie pour garder le contenu de Theta original\n",
        "    \n",
        "    Hp = Hf(X, Theta)\n",
        "    Jp = Jf(Y, Hp)\n",
        "    it = 0\n",
        "    \n",
        "    # Ici, boucle infinie jusqu'à ce que la condition d'arrêt est atteinte \n",
        "    while True:\n",
        "        Thetas.append(Theta.copy()) # garder une copie des paramètres\n",
        "        couts.append(Jp) # ajouter l'erreur passée\n",
        "    \n",
        "        dJ = dJf(X, Y, Hp) # calculer les gradients passées\n",
        "        Theta = maj_param(Theta, dJ, alpha) # mettre à jours les paramètres\n",
        "        Hc = Hf(X, Theta) # calculer la nouvelle sortie\n",
        "        Jc = Jf(Y, Hc) # calculer la nouvelle erreur\n",
        "        \n",
        "        it += 1 \n",
        "        \n",
        "        if arreter(Jp, Jc, IT, it, up=up):\n",
        "            break # si la condition d'arrêt est satisfaite, sortir\n",
        "        \n",
        "        Jp = Jc\n",
        "        Hp = Hc\n",
        "        \n",
        "    return Thetas, couts\n",
        "\n",
        "#=====================================================================\n",
        "# TEST UNITAIRE\n",
        "#=====================================================================\n",
        "# Resultat : (array([ 0.66632271, -0.12058394,  0.93814202]), 0.6851969300532375)\n",
        "#---------------------------------------------------------------------\n",
        "\n",
        "X_t = np.array([\n",
        "    [1, 1, 0.2],\n",
        "    [1, 2, 0.1],\n",
        "    [1, 3, 0.4],\n",
        "    [1, 4, 0.3]\n",
        "])\n",
        "\n",
        "Theta_t = np.array([1., 1., 1.])\n",
        "\n",
        "Y_t = np.array([1, 0, 1, 0])\n",
        "\n",
        "Theta_P, J_P = descente(X_t, Y_t, Theta_t)\n",
        "\n",
        "Theta_P[-1], J_P[-1]"
      ]
    },
    {
      "cell_type": "markdown",
      "id": "4f01017b",
      "metadata": {
        "id": "4f01017b"
      },
      "source": [
        "### I.4. Regrouper les fonctions \n",
        "\n",
        "**Rien à programmer ici**\n",
        "\n",
        "Nous voulons créer une classe qui supporte la régression linéaire et la régression logistique.\n"
      ]
    },
    {
      "cell_type": "code",
      "execution_count": null,
      "id": "c118ece3",
      "metadata": {
        "colab": {
          "base_uri": "https://localhost:8080/"
        },
        "id": "c118ece3",
        "outputId": "3636a415-ed65-4093-eefb-7b634bd2b214"
      },
      "outputs": [
        {
          "output_type": "execute_result",
          "data": {
            "text/plain": [
              "array([0.86525915, 0.5317788 , 0.9614326 ])"
            ]
          },
          "metadata": {},
          "execution_count": 17
        }
      ],
      "source": [
        "# la fonction de normalisation\n",
        "# X: un vecteur de M échantillons et N caractéristiques\n",
        "# mean: un vecteur de N nombres qui représentent les moyennes des caractéristiques\n",
        "# std: un vecteur de N nombres qui représentent les écarts types des caractéristiques\n",
        "# si mean et std ne sont pas donnés, ils vont êtres calculés à partir de X\n",
        "def normaliser(X, mean=None, std=None): \n",
        "    if (mean is None) or (std is None): \n",
        "        mean = np.mean(X, axis=0) \n",
        "        std  = np.std (X, axis=0)\n",
        "    X_norm = np.where(std==0, X, (X - mean)/std)\n",
        "    return X_norm, mean, std\n",
        "\n",
        "def preparer(X, norm=True, const=True, mean=None, std=None): \n",
        "    X_pre = X.copy()\n",
        "    if norm: \n",
        "        X_pre, mean, std = normaliser(X_pre, mean=mean, std=std)\n",
        "    if const:\n",
        "        X_pre = np.append(np.ones((X_pre.shape[0], 1)), X_pre, axis=1)\n",
        "    return X_pre, mean, std\n",
        "\n",
        "def generer_zeros_1(nbr):\n",
        "    return np.zeros(nbr)\n",
        "\n",
        "def generer_uns_1(nbr):\n",
        "    return np.ones(nbr)\n",
        "\n",
        "def generer_aleatoire_1(nbr):\n",
        "    return np.random.rand(nbr)\n",
        "\n",
        "\n",
        "class Regression(object):\n",
        "    def __init__(self, alpha=.01, log=True, norm=True, const=True): \n",
        "        \n",
        "        self.norm  = norm\n",
        "        self.const = const\n",
        "        self.alpha = alpha\n",
        "        self.log   = log\n",
        "        \n",
        "        if log: # Régression logistique\n",
        "            self.Hf  = Hf_log \n",
        "            self.Jf  = BCE\n",
        "            self.dJf = dBCE\n",
        "        else: # Régression linéaire\n",
        "            self.Hf  = zf\n",
        "            self.Jf  = MSE\n",
        "            self.dJf = dMSE\n",
        "        \n",
        "    \n",
        "    def entrainer(self, X, Y, IT=100, up=False): \n",
        "        X_pre, self.mean, self.std = preparer(X, norm=self.norm, const=self.const)\n",
        "        Theta = generer_uns_1(X_pre.shape[1])# Supposons, les paramètres sont initialisés à 1\n",
        "        self.Thetas, self.couts = descente(X_pre, \n",
        "                                           Y, \n",
        "                                           Theta, \n",
        "                                           IT     = IT, \n",
        "                                           alpha  = self.alpha, # arguments de régularisation\n",
        "                                           up     = up,\n",
        "                                           Hf     = self.Hf, # fonction logistique\n",
        "                                           Jf     = self.Jf,\n",
        "                                           dJf    = self.dJf\n",
        "                                          )\n",
        "        \n",
        "    # La prédiction\n",
        "    # si classes=True elle rend un vecteur de 1 et 0\n",
        "    # sinon elle rend un vecteur de probabilités\n",
        "    def predire(self, X, classes=True, seuil=0.5):\n",
        "        X_pre, _, _ = preparer(X, \n",
        "                               norm  = self.norm, \n",
        "                               const = self.const, \n",
        "                               mean  = self.mean, \n",
        "                               std   = self.std\n",
        "                              )\n",
        "        H = self.Hf(X_pre, self.Thetas[-1])\n",
        "        if self.log and classes:\n",
        "            return (H >= seuil).astype(int)\n",
        "        return H\n",
        "\n",
        "#=====================================================================\n",
        "# TEST UNITAIRE\n",
        "#=====================================================================\n",
        "# Resultat : array([0.86525915, 0.5317788 , 0.9614326 ])\n",
        "#---------------------------------------------------------------------\n",
        "\n",
        "X_t = np.array([\n",
        "    [100, 20],\n",
        "    [200, 10],\n",
        "    [300, 40],\n",
        "    [400, 30]\n",
        "])\n",
        "\n",
        "Y_t = np.array([1, 0, 1, 0])\n",
        "\n",
        "# logistique\n",
        "reglog = Regression()\n",
        "reglog.entrainer(X_t, Y_t)\n",
        "\n",
        "reglog.Thetas[-1]"
      ]
    },
    {
      "cell_type": "markdown",
      "id": "72549831",
      "metadata": {
        "id": "72549831"
      },
      "source": [
        "## II. Application et analyse\n",
        "\n",
        "Cette partie sert à appliquer les algorithmes, modifier les hyper-paramètres et analyser les résultats.\n",
        "Son but est de comprendre comment les hyper-paramètres peuvent affeter le fonctionnement d'un algorithme.\n",
        "\n",
        "### II.1. Régression linéaire\n",
        "\n",
        "Pour tester la régression linéaire, nous allons essayer d'estimer les prix des maisons en se basant sur leurs superficies.\n",
        "Pour ce faire, nous allons diviser notre dataset en deux : 80% pour l'entraînement et 20% pour le test (nous avons désactivé la dividion aléatoire afin d'avoir les mêmes résultats à chaque exécution)."
      ]
    },
    {
      "cell_type": "code",
      "execution_count": null,
      "id": "f3def278",
      "metadata": {
        "colab": {
          "base_uri": "https://localhost:8080/",
          "height": 380
        },
        "id": "f3def278",
        "outputId": "d603d055-a63a-404d-cad0-182161759710"
      },
      "outputs": [
        {
          "output_type": "error",
          "ename": "MessageError",
          "evalue": "ignored",
          "traceback": [
            "\u001b[0;31m---------------------------------------------------------------------------\u001b[0m",
            "\u001b[0;31mMessageError\u001b[0m                              Traceback (most recent call last)",
            "\u001b[0;32m<ipython-input-6-ae3cccd932f3>\u001b[0m in \u001b[0;36m<module>\u001b[0;34m\u001b[0m\n\u001b[1;32m      1\u001b[0m \u001b[0;32mfrom\u001b[0m \u001b[0mgoogle\u001b[0m\u001b[0;34m.\u001b[0m\u001b[0mcolab\u001b[0m \u001b[0;32mimport\u001b[0m \u001b[0mdrive\u001b[0m\u001b[0;34m\u001b[0m\u001b[0;34m\u001b[0m\u001b[0m\n\u001b[0;32m----> 2\u001b[0;31m \u001b[0mdrive\u001b[0m\u001b[0;34m.\u001b[0m\u001b[0mmount\u001b[0m\u001b[0;34m(\u001b[0m\u001b[0;34m'/content/drive'\u001b[0m\u001b[0;34m)\u001b[0m\u001b[0;34m\u001b[0m\u001b[0;34m\u001b[0m\u001b[0m\n\u001b[0m\u001b[1;32m      3\u001b[0m \u001b[0mget_ipython\u001b[0m\u001b[0;34m(\u001b[0m\u001b[0;34m)\u001b[0m\u001b[0;34m.\u001b[0m\u001b[0mrun_line_magic\u001b[0m\u001b[0;34m(\u001b[0m\u001b[0;34m'cd'\u001b[0m\u001b[0;34m,\u001b[0m \u001b[0;34m'/content/drive/My Drive'\u001b[0m\u001b[0;34m)\u001b[0m\u001b[0;34m\u001b[0m\u001b[0;34m\u001b[0m\u001b[0m\n\u001b[1;32m      4\u001b[0m \u001b[0mget_ipython\u001b[0m\u001b[0;34m(\u001b[0m\u001b[0;34m)\u001b[0m\u001b[0;34m.\u001b[0m\u001b[0msystem\u001b[0m\u001b[0;34m(\u001b[0m\u001b[0;34m\"cp 'C:\\\\Users\\\\msi ge66\\\\Documents\\\\ML\\\\TP01\\\\data\\\\houses.csv' '/content/drive/My Drive'\"\u001b[0m\u001b[0;34m)\u001b[0m\u001b[0;34m\u001b[0m\u001b[0;34m\u001b[0m\u001b[0m\n\u001b[1;32m      5\u001b[0m \u001b[0;34m\u001b[0m\u001b[0m\n",
            "\u001b[0;32m/usr/local/lib/python3.9/dist-packages/google/colab/drive.py\u001b[0m in \u001b[0;36mmount\u001b[0;34m(mountpoint, force_remount, timeout_ms, readonly)\u001b[0m\n\u001b[1;32m    101\u001b[0m \u001b[0;32mdef\u001b[0m \u001b[0mmount\u001b[0m\u001b[0;34m(\u001b[0m\u001b[0mmountpoint\u001b[0m\u001b[0;34m,\u001b[0m \u001b[0mforce_remount\u001b[0m\u001b[0;34m=\u001b[0m\u001b[0;32mFalse\u001b[0m\u001b[0;34m,\u001b[0m \u001b[0mtimeout_ms\u001b[0m\u001b[0;34m=\u001b[0m\u001b[0;36m120000\u001b[0m\u001b[0;34m,\u001b[0m \u001b[0mreadonly\u001b[0m\u001b[0;34m=\u001b[0m\u001b[0;32mFalse\u001b[0m\u001b[0;34m)\u001b[0m\u001b[0;34m:\u001b[0m\u001b[0;34m\u001b[0m\u001b[0;34m\u001b[0m\u001b[0m\n\u001b[1;32m    102\u001b[0m   \u001b[0;34m\"\"\"Mount your Google Drive at the specified mountpoint path.\"\"\"\u001b[0m\u001b[0;34m\u001b[0m\u001b[0;34m\u001b[0m\u001b[0m\n\u001b[0;32m--> 103\u001b[0;31m   return _mount(\n\u001b[0m\u001b[1;32m    104\u001b[0m       \u001b[0mmountpoint\u001b[0m\u001b[0;34m,\u001b[0m\u001b[0;34m\u001b[0m\u001b[0;34m\u001b[0m\u001b[0m\n\u001b[1;32m    105\u001b[0m       \u001b[0mforce_remount\u001b[0m\u001b[0;34m=\u001b[0m\u001b[0mforce_remount\u001b[0m\u001b[0;34m,\u001b[0m\u001b[0;34m\u001b[0m\u001b[0;34m\u001b[0m\u001b[0m\n",
            "\u001b[0;32m/usr/local/lib/python3.9/dist-packages/google/colab/drive.py\u001b[0m in \u001b[0;36m_mount\u001b[0;34m(mountpoint, force_remount, timeout_ms, ephemeral, readonly)\u001b[0m\n\u001b[1;32m    130\u001b[0m   )\n\u001b[1;32m    131\u001b[0m   \u001b[0;32mif\u001b[0m \u001b[0mephemeral\u001b[0m\u001b[0;34m:\u001b[0m\u001b[0;34m\u001b[0m\u001b[0;34m\u001b[0m\u001b[0m\n\u001b[0;32m--> 132\u001b[0;31m     _message.blocking_request(\n\u001b[0m\u001b[1;32m    133\u001b[0m         \u001b[0;34m'request_auth'\u001b[0m\u001b[0;34m,\u001b[0m \u001b[0mrequest\u001b[0m\u001b[0;34m=\u001b[0m\u001b[0;34m{\u001b[0m\u001b[0;34m'authType'\u001b[0m\u001b[0;34m:\u001b[0m \u001b[0;34m'dfs_ephemeral'\u001b[0m\u001b[0;34m}\u001b[0m\u001b[0;34m,\u001b[0m \u001b[0mtimeout_sec\u001b[0m\u001b[0;34m=\u001b[0m\u001b[0;32mNone\u001b[0m\u001b[0;34m\u001b[0m\u001b[0;34m\u001b[0m\u001b[0m\n\u001b[1;32m    134\u001b[0m     )\n",
            "\u001b[0;32m/usr/local/lib/python3.9/dist-packages/google/colab/_message.py\u001b[0m in \u001b[0;36mblocking_request\u001b[0;34m(request_type, request, timeout_sec, parent)\u001b[0m\n\u001b[1;32m    175\u001b[0m       \u001b[0mrequest_type\u001b[0m\u001b[0;34m,\u001b[0m \u001b[0mrequest\u001b[0m\u001b[0;34m,\u001b[0m \u001b[0mparent\u001b[0m\u001b[0;34m=\u001b[0m\u001b[0mparent\u001b[0m\u001b[0;34m,\u001b[0m \u001b[0mexpect_reply\u001b[0m\u001b[0;34m=\u001b[0m\u001b[0;32mTrue\u001b[0m\u001b[0;34m\u001b[0m\u001b[0;34m\u001b[0m\u001b[0m\n\u001b[1;32m    176\u001b[0m   )\n\u001b[0;32m--> 177\u001b[0;31m   \u001b[0;32mreturn\u001b[0m \u001b[0mread_reply_from_input\u001b[0m\u001b[0;34m(\u001b[0m\u001b[0mrequest_id\u001b[0m\u001b[0;34m,\u001b[0m \u001b[0mtimeout_sec\u001b[0m\u001b[0;34m)\u001b[0m\u001b[0;34m\u001b[0m\u001b[0;34m\u001b[0m\u001b[0m\n\u001b[0m",
            "\u001b[0;32m/usr/local/lib/python3.9/dist-packages/google/colab/_message.py\u001b[0m in \u001b[0;36mread_reply_from_input\u001b[0;34m(message_id, timeout_sec)\u001b[0m\n\u001b[1;32m    102\u001b[0m     ):\n\u001b[1;32m    103\u001b[0m       \u001b[0;32mif\u001b[0m \u001b[0;34m'error'\u001b[0m \u001b[0;32min\u001b[0m \u001b[0mreply\u001b[0m\u001b[0;34m:\u001b[0m\u001b[0;34m\u001b[0m\u001b[0;34m\u001b[0m\u001b[0m\n\u001b[0;32m--> 104\u001b[0;31m         \u001b[0;32mraise\u001b[0m \u001b[0mMessageError\u001b[0m\u001b[0;34m(\u001b[0m\u001b[0mreply\u001b[0m\u001b[0;34m[\u001b[0m\u001b[0;34m'error'\u001b[0m\u001b[0;34m]\u001b[0m\u001b[0;34m)\u001b[0m\u001b[0;34m\u001b[0m\u001b[0;34m\u001b[0m\u001b[0m\n\u001b[0m\u001b[1;32m    105\u001b[0m       \u001b[0;32mreturn\u001b[0m \u001b[0mreply\u001b[0m\u001b[0;34m.\u001b[0m\u001b[0mget\u001b[0m\u001b[0;34m(\u001b[0m\u001b[0;34m'data'\u001b[0m\u001b[0;34m,\u001b[0m \u001b[0;32mNone\u001b[0m\u001b[0;34m)\u001b[0m\u001b[0;34m\u001b[0m\u001b[0;34m\u001b[0m\u001b[0m\n\u001b[1;32m    106\u001b[0m \u001b[0;34m\u001b[0m\u001b[0m\n",
            "\u001b[0;31mMessageError\u001b[0m: Error: credential propagation was unsuccessful"
          ]
        }
      ],
      "source": [
        "from google.colab import drive\n",
        "drive.mount('/content/drive')\n",
        "%cd /content/drive/My Drive\n",
        "!cp 'C:\\Users\\msi ge66\\Documents\\ML\\TP01\\data\\houses.csv' '/content/drive/My Drive'\n",
        "\n",
        "header = ['Superficie', 'Prix']\n",
        "houses = pd.read_csv('/content/drive/My Drive/houses.csv', names=header)\n",
        "houses.head()"
      ]
    },
    {
      "cell_type": "code",
      "execution_count": null,
      "id": "6068aada",
      "metadata": {
        "id": "6068aada",
        "outputId": "94bdb033-d3fa-4475-cb29-cd8b0f1683b8"
      },
      "outputs": [
        {
          "data": {
            "text/plain": [
              "(37, 10)"
            ]
          },
          "execution_count": 70,
          "metadata": {},
          "output_type": "execute_result"
        }
      ],
      "source": [
        "from sklearn.model_selection import train_test_split  \n",
        "\n",
        "Xhouses = houses.iloc[:, :-1].values # Premières colonnes \n",
        "Yhouses = houses.iloc[:,  -1].values # Dernière colonne \n",
        "\n",
        "Xhouses_train, Xhouses_test, Yhouses_train, Yhouses_test = train_test_split(Xhouses, Yhouses, \n",
        "                                                                            test_size    = 0.2, \n",
        "                                                                            random_state = 0\n",
        "                                                                           )  \n",
        "\n",
        "len(Xhouses_train), len(Xhouses_test)"
      ]
    },
    {
      "cell_type": "markdown",
      "id": "198937fb",
      "metadata": {
        "id": "198937fb"
      },
      "source": [
        "#### II.1.1. Qualité de prediction \n",
        "\n",
        "Ici, nous voulons tester la qualité de prédiction de la régression linéaire : est-ce qu'elle estime les sorties d'une manière exacte ou au moins d'une manière rapprochée. \n",
        "Pour ce faire, nous avons entraîné notre modèle sur les données d'entraînement (en bleu). \n",
        "Ensuite, nous avons essayé d'estimer les résultats de test (en vert : les sorties réelles ; en magenta : les sorties estimées)."
      ]
    },
    {
      "cell_type": "code",
      "execution_count": null,
      "id": "8488257f",
      "metadata": {
        "id": "8488257f",
        "outputId": "17946fd3-20ca-4111-d7ad-2cc875224eff"
      },
      "outputs": [
        {
          "data": {
            "image/png": "[encoded data removed]",
            "text/plain": [
              "<Figure size 640x480 with 1 Axes>"
            ]
          },
          "metadata": {},
          "output_type": "display_data"
        }
      ],
      "source": [
        "from sklearn.linear_model  import LinearRegression\n",
        "from sklearn.preprocessing import StandardScaler\n",
        "from sklearn.pipeline      import make_pipeline\n",
        "\n",
        "# Entraînement d'un modèle de régression linéaire \n",
        "regresseur1 = make_pipeline(StandardScaler(with_mean=False), LinearRegression())\n",
        "regresseur1.fit(Xhouses_train, Yhouses_train)\n",
        "\n",
        "Yhouses_pred = regresseur1.predict(Xhouses_test )\n",
        "Yhouses_line = regresseur1.predict(Xhouses_train)  \n",
        "\n",
        "# Visualiser la distribution des données d'entraînement et de test\n",
        "# Aussi, la ligne de prédiction et la prédiction du dataset de test\n",
        "plt.scatter(Xhouses_train, Yhouses_train, color='blue'  , label = 'entrainement'       )\n",
        "plt.scatter(Xhouses_test , Yhouses_test , color='green' , label = 'test'               )\n",
        "plt.plot   (Xhouses_train, Yhouses_line , color='red'   , label = 'ligne de prediction')\n",
        "plt.scatter(Xhouses_test , Yhouses_pred , color='violet', label = 'prediction'         )\n",
        "plt.xlabel('Superficie')\n",
        "plt.ylabel('Prix')\n",
        "plt.legend()\n",
        "plt.show()"
      ]
    },
    {
      "cell_type": "markdown",
      "id": "f564015a",
      "metadata": {
        "id": "f564015a"
      },
      "source": [
        "**TODO: Analyser les résultats**\n",
        "\n",
        "- Est-ce que la régression linéaire peut prédire exactement les valeurs Y ? \n",
        "- Pourquoi ? \n",
        "\n",
        "**Réponse**\n",
        "\n",
        "- Non\n",
        "- car on peut remarquer que la relation n'est pas vraiment linéaire entre les variables (superficie et prix), dans ce cas la regression lineaire n'est pas la meilleure méthode pour modéliser la relation entre ces variables donc elle ne peut pas donner des bons resultats.\n",
        "-on peut utiliser la reg lineaire pour completer les données inexistantes"
      ]
    },
    {
      "cell_type": "markdown",
      "id": "c584dbc0",
      "metadata": {
        "id": "c584dbc0"
      },
      "source": [
        "#### II.1.2. Biais\n",
        "\n",
        "Ici, nous voulons tester l'effet du biais et s'il est toujours utile.\n",
        "Pour ce faire, nous avons entraîné un autre modèle sans biais.\n",
        "Nous avons calculer l'erreur des deux modèles."
      ]
    },
    {
      "cell_type": "code",
      "execution_count": null,
      "id": "b04a3bb4",
      "metadata": {
        "id": "b04a3bb4",
        "outputId": "69ac5e4c-a672-4ce3-a1be-e0d03b46bda4"
      },
      "outputs": [
        {
          "data": {
            "text/html": [
              "<div>\n",
              "<style scoped>\n",
              "    .dataframe tbody tr th:only-of-type {\n",
              "        vertical-align: middle;\n",
              "    }\n",
              "\n",
              "    .dataframe tbody tr th {\n",
              "        vertical-align: top;\n",
              "    }\n",
              "\n",
              "    .dataframe thead th {\n",
              "        text-align: right;\n",
              "    }\n",
              "</style>\n",
              "<table border=\"1\" class=\"dataframe\">\n",
              "  <thead>\n",
              "    <tr style=\"text-align: right;\">\n",
              "      <th></th>\n",
              "      <th>Modèle</th>\n",
              "      <th>Erreur (MSE)</th>\n",
              "      <th>Erreur (MAE)</th>\n",
              "    </tr>\n",
              "  </thead>\n",
              "  <tbody>\n",
              "    <tr>\n",
              "      <th>0</th>\n",
              "      <td>avec biais</td>\n",
              "      <td>5.821821e+09</td>\n",
              "      <td>69100.263620</td>\n",
              "    </tr>\n",
              "    <tr>\n",
              "      <th>1</th>\n",
              "      <td>sans biais</td>\n",
              "      <td>4.646623e+09</td>\n",
              "      <td>58764.434393</td>\n",
              "    </tr>\n",
              "  </tbody>\n",
              "</table>\n",
              "</div>"
            ],
            "text/plain": [
              "       Modèle  Erreur (MSE)  Erreur (MAE)\n",
              "0  avec biais  5.821821e+09  69100.263620\n",
              "1  sans biais  4.646623e+09  58764.434393"
            ]
          },
          "execution_count": 17,
          "metadata": {},
          "output_type": "execute_result"
        }
      ],
      "source": [
        "from sklearn.metrics       import mean_squared_error\n",
        "from sklearn.metrics       import mean_absolute_error\n",
        "\n",
        "# Entraînement d'un modèle de régression linéaire sans biais\n",
        "regresseur2 = make_pipeline(StandardScaler(with_mean=False), LinearRegression(fit_intercept=False)) #normalisation\n",
        "regresseur2.fit(Xhouses_train, Yhouses_train) #entrainement\n",
        "\n",
        "Yhouses_pred2 = regresseur2.predict(Xhouses_test )\n",
        "\n",
        "\n",
        "pd.DataFrame({\n",
        "    'Modèle'         : ['avec biais', 'sans biais'],\n",
        "    'Erreur (MSE)'   : [mean_squared_error(Yhouses_test, Yhouses_pred), \n",
        "                        mean_squared_error(Yhouses_test, Yhouses_pred2)],\n",
        "    'Erreur (MAE)'   : [mean_absolute_error(Yhouses_test, Yhouses_pred), \n",
        "                        mean_absolute_error(Yhouses_test, Yhouses_pred2)],\n",
        "})"
      ]
    },
    {
      "cell_type": "markdown",
      "id": "f0fbbee0",
      "metadata": {
        "id": "f0fbbee0"
      },
      "source": [
        "**TODO: Analyser les résultats**\n",
        "\n",
        "En se basant sur l'erreur :\n",
        "- Est-ce que le biais est toujours utile ?\n",
        "- Expliquer pourquoi le 2ieme modèle a eu une meilleure performance ?\n",
        "\n",
        "**Réponse**\n",
        "\n",
        "- Non\n",
        "-  le 2ieme modele sans biais a eu une meilleure performance, car on observant la represention des donnees sur le plan, on trouve que si la droite (le modele) passe par l'origine ie le biais=0 , elle vas ajuster mieux les donnees (passe par plus de points), d'ou avec un biais=0 l'erreur diminue.Donc l'utilité du biais est relative au problème étudié\n",
        "\n",
        "--lorsqu'on enlève le biais on peut avoir un problème de surapprentissage\n",
        "--si il ya une correlation dans notre modele lemodèle sans biais sera plus adapté\n",
        "   "
      ]
    },
    {
      "cell_type": "markdown",
      "id": "f9e682e6",
      "metadata": {
        "id": "f9e682e6"
      },
      "source": [
        "### II.2. Régression logistique binaire\n",
        "\n",
        "Pour tester la régression logistique, nous allons essayer d'estimer si un étudiant est admis en se basant sur deux notes.\n",
        "Bien sûr, il est admis si la moyenne des deux notes est supérieure ou égale à 10. \n",
        "Dans ce cas, la séparation entre admis et non admis est linèaire.\n",
        "Les données d'entraînement et de test ont été générées automatiquement en utilisant le script joint à ce TP."
      ]
    },
    {
      "cell_type": "code",
      "execution_count": null,
      "id": "8bcfb731",
      "metadata": {
        "colab": {
          "base_uri": "https://localhost:8080/",
          "height": 397
        },
        "id": "8bcfb731",
        "outputId": "a95f90d1-1ad4-45b5-8929-c19712c279b0"
      },
      "outputs": [
        {
          "output_type": "error",
          "ename": "FileNotFoundError",
          "evalue": "ignored",
          "traceback": [
            "\u001b[0;31m---------------------------------------------------------------------------\u001b[0m",
            "\u001b[0;31mFileNotFoundError\u001b[0m                         Traceback (most recent call last)",
            "\u001b[0;32m<ipython-input-7-c3864f66a933>\u001b[0m in \u001b[0;36m<module>\u001b[0;34m\u001b[0m\n\u001b[0;32m----> 1\u001b[0;31m \u001b[0mnotes\u001b[0m \u001b[0;34m=\u001b[0m \u001b[0mpd\u001b[0m\u001b[0;34m.\u001b[0m\u001b[0mread_csv\u001b[0m\u001b[0;34m(\u001b[0m\u001b[0;34m'data/notes.csv'\u001b[0m\u001b[0;34m)\u001b[0m\u001b[0;34m\u001b[0m\u001b[0;34m\u001b[0m\u001b[0m\n\u001b[0m\u001b[1;32m      2\u001b[0m \u001b[0;34m\u001b[0m\u001b[0m\n\u001b[1;32m      3\u001b[0m \u001b[0;31m# Extraction des caractéristiques\u001b[0m\u001b[0;34m\u001b[0m\u001b[0;34m\u001b[0m\u001b[0m\n\u001b[1;32m      4\u001b[0m \u001b[0mX_notes\u001b[0m \u001b[0;34m=\u001b[0m \u001b[0mnotes\u001b[0m\u001b[0;34m.\u001b[0m\u001b[0miloc\u001b[0m\u001b[0;34m[\u001b[0m\u001b[0;34m:\u001b[0m\u001b[0;34m,\u001b[0m \u001b[0;34m:\u001b[0m\u001b[0;34m-\u001b[0m\u001b[0;36m1\u001b[0m\u001b[0;34m]\u001b[0m\u001b[0;34m.\u001b[0m\u001b[0mvalues\u001b[0m \u001b[0;31m# Premières colonnes\u001b[0m\u001b[0;34m\u001b[0m\u001b[0;34m\u001b[0m\u001b[0m\n\u001b[1;32m      5\u001b[0m \u001b[0mY_notes\u001b[0m \u001b[0;34m=\u001b[0m \u001b[0mnotes\u001b[0m\u001b[0;34m.\u001b[0m\u001b[0miloc\u001b[0m\u001b[0;34m[\u001b[0m\u001b[0;34m:\u001b[0m\u001b[0;34m,\u001b[0m  \u001b[0;34m-\u001b[0m\u001b[0;36m1\u001b[0m\u001b[0;34m]\u001b[0m\u001b[0;34m.\u001b[0m\u001b[0mvalues\u001b[0m \u001b[0;31m# Dernière colonne\u001b[0m\u001b[0;34m\u001b[0m\u001b[0;34m\u001b[0m\u001b[0m\n",
            "\u001b[0;32m/usr/local/lib/python3.9/dist-packages/pandas/util/_decorators.py\u001b[0m in \u001b[0;36mwrapper\u001b[0;34m(*args, **kwargs)\u001b[0m\n\u001b[1;32m    309\u001b[0m                     \u001b[0mstacklevel\u001b[0m\u001b[0;34m=\u001b[0m\u001b[0mstacklevel\u001b[0m\u001b[0;34m,\u001b[0m\u001b[0;34m\u001b[0m\u001b[0;34m\u001b[0m\u001b[0m\n\u001b[1;32m    310\u001b[0m                 )\n\u001b[0;32m--> 311\u001b[0;31m             \u001b[0;32mreturn\u001b[0m \u001b[0mfunc\u001b[0m\u001b[0;34m(\u001b[0m\u001b[0;34m*\u001b[0m\u001b[0margs\u001b[0m\u001b[0;34m,\u001b[0m \u001b[0;34m**\u001b[0m\u001b[0mkwargs\u001b[0m\u001b[0;34m)\u001b[0m\u001b[0;34m\u001b[0m\u001b[0;34m\u001b[0m\u001b[0m\n\u001b[0m\u001b[1;32m    312\u001b[0m \u001b[0;34m\u001b[0m\u001b[0m\n\u001b[1;32m    313\u001b[0m         \u001b[0;32mreturn\u001b[0m \u001b[0mwrapper\u001b[0m\u001b[0;34m\u001b[0m\u001b[0;34m\u001b[0m\u001b[0m\n",
            "\u001b[0;32m/usr/local/lib/python3.9/dist-packages/pandas/io/parsers/readers.py\u001b[0m in \u001b[0;36mread_csv\u001b[0;34m(filepath_or_buffer, sep, delimiter, header, names, index_col, usecols, squeeze, prefix, mangle_dupe_cols, dtype, engine, converters, true_values, false_values, skipinitialspace, skiprows, skipfooter, nrows, na_values, keep_default_na, na_filter, verbose, skip_blank_lines, parse_dates, infer_datetime_format, keep_date_col, date_parser, dayfirst, cache_dates, iterator, chunksize, compression, thousands, decimal, lineterminator, quotechar, quoting, doublequote, escapechar, comment, encoding, encoding_errors, dialect, error_bad_lines, warn_bad_lines, on_bad_lines, delim_whitespace, low_memory, memory_map, float_precision, storage_options)\u001b[0m\n\u001b[1;32m    584\u001b[0m     \u001b[0mkwds\u001b[0m\u001b[0;34m.\u001b[0m\u001b[0mupdate\u001b[0m\u001b[0;34m(\u001b[0m\u001b[0mkwds_defaults\u001b[0m\u001b[0;34m)\u001b[0m\u001b[0;34m\u001b[0m\u001b[0;34m\u001b[0m\u001b[0m\n\u001b[1;32m    585\u001b[0m \u001b[0;34m\u001b[0m\u001b[0m\n\u001b[0;32m--> 586\u001b[0;31m     \u001b[0;32mreturn\u001b[0m \u001b[0m_read\u001b[0m\u001b[0;34m(\u001b[0m\u001b[0mfilepath_or_buffer\u001b[0m\u001b[0;34m,\u001b[0m \u001b[0mkwds\u001b[0m\u001b[0;34m)\u001b[0m\u001b[0;34m\u001b[0m\u001b[0;34m\u001b[0m\u001b[0m\n\u001b[0m\u001b[1;32m    587\u001b[0m \u001b[0;34m\u001b[0m\u001b[0m\n\u001b[1;32m    588\u001b[0m \u001b[0;34m\u001b[0m\u001b[0m\n",
            "\u001b[0;32m/usr/local/lib/python3.9/dist-packages/pandas/io/parsers/readers.py\u001b[0m in \u001b[0;36m_read\u001b[0;34m(filepath_or_buffer, kwds)\u001b[0m\n\u001b[1;32m    480\u001b[0m \u001b[0;34m\u001b[0m\u001b[0m\n\u001b[1;32m    481\u001b[0m     \u001b[0;31m# Create the parser.\u001b[0m\u001b[0;34m\u001b[0m\u001b[0;34m\u001b[0m\u001b[0m\n\u001b[0;32m--> 482\u001b[0;31m     \u001b[0mparser\u001b[0m \u001b[0;34m=\u001b[0m \u001b[0mTextFileReader\u001b[0m\u001b[0;34m(\u001b[0m\u001b[0mfilepath_or_buffer\u001b[0m\u001b[0;34m,\u001b[0m \u001b[0;34m**\u001b[0m\u001b[0mkwds\u001b[0m\u001b[0;34m)\u001b[0m\u001b[0;34m\u001b[0m\u001b[0;34m\u001b[0m\u001b[0m\n\u001b[0m\u001b[1;32m    483\u001b[0m \u001b[0;34m\u001b[0m\u001b[0m\n\u001b[1;32m    484\u001b[0m     \u001b[0;32mif\u001b[0m \u001b[0mchunksize\u001b[0m \u001b[0;32mor\u001b[0m \u001b[0miterator\u001b[0m\u001b[0;34m:\u001b[0m\u001b[0;34m\u001b[0m\u001b[0;34m\u001b[0m\u001b[0m\n",
            "\u001b[0;32m/usr/local/lib/python3.9/dist-packages/pandas/io/parsers/readers.py\u001b[0m in \u001b[0;36m__init__\u001b[0;34m(self, f, engine, **kwds)\u001b[0m\n\u001b[1;32m    809\u001b[0m             \u001b[0mself\u001b[0m\u001b[0;34m.\u001b[0m\u001b[0moptions\u001b[0m\u001b[0;34m[\u001b[0m\u001b[0;34m\"has_index_names\"\u001b[0m\u001b[0;34m]\u001b[0m \u001b[0;34m=\u001b[0m \u001b[0mkwds\u001b[0m\u001b[0;34m[\u001b[0m\u001b[0;34m\"has_index_names\"\u001b[0m\u001b[0;34m]\u001b[0m\u001b[0;34m\u001b[0m\u001b[0;34m\u001b[0m\u001b[0m\n\u001b[1;32m    810\u001b[0m \u001b[0;34m\u001b[0m\u001b[0m\n\u001b[0;32m--> 811\u001b[0;31m         \u001b[0mself\u001b[0m\u001b[0;34m.\u001b[0m\u001b[0m_engine\u001b[0m \u001b[0;34m=\u001b[0m \u001b[0mself\u001b[0m\u001b[0;34m.\u001b[0m\u001b[0m_make_engine\u001b[0m\u001b[0;34m(\u001b[0m\u001b[0mself\u001b[0m\u001b[0;34m.\u001b[0m\u001b[0mengine\u001b[0m\u001b[0;34m)\u001b[0m\u001b[0;34m\u001b[0m\u001b[0;34m\u001b[0m\u001b[0m\n\u001b[0m\u001b[1;32m    812\u001b[0m \u001b[0;34m\u001b[0m\u001b[0m\n\u001b[1;32m    813\u001b[0m     \u001b[0;32mdef\u001b[0m \u001b[0mclose\u001b[0m\u001b[0;34m(\u001b[0m\u001b[0mself\u001b[0m\u001b[0;34m)\u001b[0m\u001b[0;34m:\u001b[0m\u001b[0;34m\u001b[0m\u001b[0;34m\u001b[0m\u001b[0m\n",
            "\u001b[0;32m/usr/local/lib/python3.9/dist-packages/pandas/io/parsers/readers.py\u001b[0m in \u001b[0;36m_make_engine\u001b[0;34m(self, engine)\u001b[0m\n\u001b[1;32m   1038\u001b[0m             )\n\u001b[1;32m   1039\u001b[0m         \u001b[0;31m# error: Too many arguments for \"ParserBase\"\u001b[0m\u001b[0;34m\u001b[0m\u001b[0;34m\u001b[0m\u001b[0m\n\u001b[0;32m-> 1040\u001b[0;31m         \u001b[0;32mreturn\u001b[0m \u001b[0mmapping\u001b[0m\u001b[0;34m[\u001b[0m\u001b[0mengine\u001b[0m\u001b[0;34m]\u001b[0m\u001b[0;34m(\u001b[0m\u001b[0mself\u001b[0m\u001b[0;34m.\u001b[0m\u001b[0mf\u001b[0m\u001b[0;34m,\u001b[0m \u001b[0;34m**\u001b[0m\u001b[0mself\u001b[0m\u001b[0;34m.\u001b[0m\u001b[0moptions\u001b[0m\u001b[0;34m)\u001b[0m  \u001b[0;31m# type: ignore[call-arg]\u001b[0m\u001b[0;34m\u001b[0m\u001b[0;34m\u001b[0m\u001b[0m\n\u001b[0m\u001b[1;32m   1041\u001b[0m \u001b[0;34m\u001b[0m\u001b[0m\n\u001b[1;32m   1042\u001b[0m     \u001b[0;32mdef\u001b[0m \u001b[0m_failover_to_python\u001b[0m\u001b[0;34m(\u001b[0m\u001b[0mself\u001b[0m\u001b[0;34m)\u001b[0m\u001b[0;34m:\u001b[0m\u001b[0;34m\u001b[0m\u001b[0;34m\u001b[0m\u001b[0m\n",
            "\u001b[0;32m/usr/local/lib/python3.9/dist-packages/pandas/io/parsers/c_parser_wrapper.py\u001b[0m in \u001b[0;36m__init__\u001b[0;34m(self, src, **kwds)\u001b[0m\n\u001b[1;32m     49\u001b[0m \u001b[0;34m\u001b[0m\u001b[0m\n\u001b[1;32m     50\u001b[0m         \u001b[0;31m# open handles\u001b[0m\u001b[0;34m\u001b[0m\u001b[0;34m\u001b[0m\u001b[0m\n\u001b[0;32m---> 51\u001b[0;31m         \u001b[0mself\u001b[0m\u001b[0;34m.\u001b[0m\u001b[0m_open_handles\u001b[0m\u001b[0;34m(\u001b[0m\u001b[0msrc\u001b[0m\u001b[0;34m,\u001b[0m \u001b[0mkwds\u001b[0m\u001b[0;34m)\u001b[0m\u001b[0;34m\u001b[0m\u001b[0;34m\u001b[0m\u001b[0m\n\u001b[0m\u001b[1;32m     52\u001b[0m         \u001b[0;32massert\u001b[0m \u001b[0mself\u001b[0m\u001b[0;34m.\u001b[0m\u001b[0mhandles\u001b[0m \u001b[0;32mis\u001b[0m \u001b[0;32mnot\u001b[0m \u001b[0;32mNone\u001b[0m\u001b[0;34m\u001b[0m\u001b[0;34m\u001b[0m\u001b[0m\n\u001b[1;32m     53\u001b[0m \u001b[0;34m\u001b[0m\u001b[0m\n",
            "\u001b[0;32m/usr/local/lib/python3.9/dist-packages/pandas/io/parsers/base_parser.py\u001b[0m in \u001b[0;36m_open_handles\u001b[0;34m(self, src, kwds)\u001b[0m\n\u001b[1;32m    220\u001b[0m         \u001b[0mLet\u001b[0m \u001b[0mthe\u001b[0m \u001b[0mreaders\u001b[0m \u001b[0mopen\u001b[0m \u001b[0mIOHandles\u001b[0m \u001b[0mafter\u001b[0m \u001b[0mthey\u001b[0m \u001b[0mare\u001b[0m \u001b[0mdone\u001b[0m \u001b[0;32mwith\u001b[0m \u001b[0mtheir\u001b[0m \u001b[0mpotential\u001b[0m \u001b[0mraises\u001b[0m\u001b[0;34m.\u001b[0m\u001b[0;34m\u001b[0m\u001b[0;34m\u001b[0m\u001b[0m\n\u001b[1;32m    221\u001b[0m         \"\"\"\n\u001b[0;32m--> 222\u001b[0;31m         self.handles = get_handle(\n\u001b[0m\u001b[1;32m    223\u001b[0m             \u001b[0msrc\u001b[0m\u001b[0;34m,\u001b[0m\u001b[0;34m\u001b[0m\u001b[0;34m\u001b[0m\u001b[0m\n\u001b[1;32m    224\u001b[0m             \u001b[0;34m\"r\"\u001b[0m\u001b[0;34m,\u001b[0m\u001b[0;34m\u001b[0m\u001b[0;34m\u001b[0m\u001b[0m\n",
            "\u001b[0;32m/usr/local/lib/python3.9/dist-packages/pandas/io/common.py\u001b[0m in \u001b[0;36mget_handle\u001b[0;34m(path_or_buf, mode, encoding, compression, memory_map, is_text, errors, storage_options)\u001b[0m\n\u001b[1;32m    700\u001b[0m         \u001b[0;32mif\u001b[0m \u001b[0mioargs\u001b[0m\u001b[0;34m.\u001b[0m\u001b[0mencoding\u001b[0m \u001b[0;32mand\u001b[0m \u001b[0;34m\"b\"\u001b[0m \u001b[0;32mnot\u001b[0m \u001b[0;32min\u001b[0m \u001b[0mioargs\u001b[0m\u001b[0;34m.\u001b[0m\u001b[0mmode\u001b[0m\u001b[0;34m:\u001b[0m\u001b[0;34m\u001b[0m\u001b[0;34m\u001b[0m\u001b[0m\n\u001b[1;32m    701\u001b[0m             \u001b[0;31m# Encoding\u001b[0m\u001b[0;34m\u001b[0m\u001b[0;34m\u001b[0m\u001b[0m\n\u001b[0;32m--> 702\u001b[0;31m             handle = open(\n\u001b[0m\u001b[1;32m    703\u001b[0m                 \u001b[0mhandle\u001b[0m\u001b[0;34m,\u001b[0m\u001b[0;34m\u001b[0m\u001b[0;34m\u001b[0m\u001b[0m\n\u001b[1;32m    704\u001b[0m                 \u001b[0mioargs\u001b[0m\u001b[0;34m.\u001b[0m\u001b[0mmode\u001b[0m\u001b[0;34m,\u001b[0m\u001b[0;34m\u001b[0m\u001b[0;34m\u001b[0m\u001b[0m\n",
            "\u001b[0;31mFileNotFoundError\u001b[0m: [Errno 2] No such file or directory: 'data/notes.csv'"
          ]
        }
      ],
      "source": [
        "notes = pd.read_csv('data/notes.csv')\n",
        "\n",
        "# Extraction des caractéristiques \n",
        "X_notes = notes.iloc[:, :-1].values # Premières colonnes \n",
        "Y_notes = notes.iloc[:,  -1].values # Dernière colonne \n",
        "\n",
        "X_notes_norm = X_notes/20 # Nous savons le maximum\n",
        "\n",
        "# créer un normalisateur pour apprendre de l'entrainement et clip avec le test\n",
        "# puisque nous savons la valeur max et min\n",
        "# cette etape est inutile => commenter\n",
        "\n",
        "# from sklearn.preprocessing import MinMaxScaler\n",
        "# mms = MinMaxScaler(clip=True) \n",
        "# X_notes_norm = mms.fit_transform(X_notes)\n",
        "\n",
        "notes.head()"
      ]
    },
    {
      "cell_type": "markdown",
      "id": "44aea63f",
      "metadata": {
        "id": "44aea63f"
      },
      "source": [
        "#### II.2.1. Normalisation et convergence \n",
        "\n",
        "Nous voulons tester l'effet de la normalisation sur la vitesse de convergence du modèle.\n",
        "Pour ce faire, nous avons entraîné deux modèles : un sans normalisation et l'autre avec normalisation.\n",
        "\n",
        "**Remarque** : le coût n'est pas lisse puisqu'on applique une seule itération avec \"warm start\" afin de controler les iteration en dehors du modèle (récupérer les erreurs pour chaque itération)."
      ]
    },
    {
      "cell_type": "code",
      "execution_count": null,
      "id": "b545592b",
      "metadata": {
        "colab": {
          "base_uri": "https://localhost:8080/",
          "height": 235
        },
        "id": "b545592b",
        "outputId": "39c0be7d-9914-47ef-c0be-e2ec1e093980"
      },
      "outputs": [
        {
          "output_type": "error",
          "ename": "NameError",
          "evalue": "ignored",
          "traceback": [
            "\u001b[0;31m---------------------------------------------------------------------------\u001b[0m",
            "\u001b[0;31mNameError\u001b[0m                                 Traceback (most recent call last)",
            "\u001b[0;32m<ipython-input-2-2629463e3bf8>\u001b[0m in \u001b[0;36m<module>\u001b[0;34m\u001b[0m\n\u001b[1;32m     34\u001b[0m \u001b[0mcouts_norm\u001b[0m   \u001b[0;34m=\u001b[0m \u001b[0;34m[\u001b[0m\u001b[0;34m]\u001b[0m\u001b[0;34m\u001b[0m\u001b[0;34m\u001b[0m\u001b[0m\n\u001b[1;32m     35\u001b[0m \u001b[0;32mfor\u001b[0m \u001b[0mit\u001b[0m \u001b[0;32min\u001b[0m \u001b[0mrange\u001b[0m\u001b[0;34m(\u001b[0m\u001b[0mITMAX\u001b[0m\u001b[0;34m)\u001b[0m\u001b[0;34m:\u001b[0m\u001b[0;34m\u001b[0m\u001b[0;34m\u001b[0m\u001b[0m\n\u001b[0;32m---> 36\u001b[0;31m     \u001b[0mreg_log_nonorm\u001b[0m\u001b[0;34m.\u001b[0m\u001b[0mfit\u001b[0m\u001b[0;34m(\u001b[0m\u001b[0mX_notes\u001b[0m\u001b[0;34m,\u001b[0m \u001b[0mY_notes\u001b[0m\u001b[0;34m)\u001b[0m\u001b[0;34m\u001b[0m\u001b[0;34m\u001b[0m\u001b[0m\n\u001b[0m\u001b[1;32m     37\u001b[0m     \u001b[0mreg_log_norm\u001b[0m\u001b[0;34m.\u001b[0m\u001b[0mfit\u001b[0m\u001b[0;34m(\u001b[0m\u001b[0mX_notes_norm\u001b[0m\u001b[0;34m,\u001b[0m \u001b[0mY_notes\u001b[0m\u001b[0;34m)\u001b[0m\u001b[0;34m\u001b[0m\u001b[0;34m\u001b[0m\u001b[0m\n\u001b[1;32m     38\u001b[0m     \u001b[0mcouts_nonorm\u001b[0m\u001b[0;34m.\u001b[0m\u001b[0mappend\u001b[0m\u001b[0;34m(\u001b[0m\u001b[0mlog_loss\u001b[0m\u001b[0;34m(\u001b[0m\u001b[0mY_notes\u001b[0m\u001b[0;34m,\u001b[0m \u001b[0mreg_log_nonorm\u001b[0m\u001b[0;34m.\u001b[0m\u001b[0mpredict\u001b[0m\u001b[0;34m(\u001b[0m\u001b[0mX_notes\u001b[0m\u001b[0;34m)\u001b[0m\u001b[0;34m)\u001b[0m\u001b[0;34m)\u001b[0m\u001b[0;34m\u001b[0m\u001b[0;34m\u001b[0m\u001b[0m\n",
            "\u001b[0;31mNameError\u001b[0m: name 'X_notes' is not defined"
          ]
        }
      ],
      "source": [
        "from sklearn.linear_model import LogisticRegression\n",
        "from sklearn.linear_model import SGDClassifier\n",
        "from sklearn.metrics import log_loss\n",
        "\n",
        "# ce block du code est pour filtrer les avertissements concernant la convergence du modèle\n",
        "# en général, lorsque e nombre des itérations n'est pas suffisant pour atteindre l'erreur minimale\n",
        "import warnings\n",
        "from sklearn.exceptions import ConvergenceWarning\n",
        "warnings.filterwarnings('ignore', category=ConvergenceWarning)\n",
        "\n",
        "ALPHA = 0.01\n",
        "ITMAX = 200\n",
        "\n",
        "# Création des modèles\n",
        "# sans normalisation\n",
        "# reg_log_nonorm = LogisticRegression(penalty=None, max_iter=1, warm_start=True) \n",
        "reg_log_nonorm = SGDClassifier(penalty=None, \n",
        "                               max_iter=1, \n",
        "                               warm_start=True, \n",
        "                               loss='log_loss',\n",
        "                               learning_rate='constant', \n",
        "                               eta0=ALPHA, shuffle=False)\n",
        "# avec normalisation\n",
        "# reg_log_norm   = LogisticRegression(penalty=None, max_iter=1, warm_start=True)   \n",
        "reg_log_norm = SGDClassifier(penalty=None, \n",
        "                               max_iter=1, \n",
        "                               warm_start=True, \n",
        "                               loss='log_loss',\n",
        "                               learning_rate='constant', \n",
        "                               eta0=ALPHA, shuffle=False)\n",
        "\n",
        "# Entraînement des modèles\n",
        "couts_nonorm = []\n",
        "couts_norm   = []\n",
        "for it in range(ITMAX):\n",
        "    reg_log_nonorm.fit(X_notes, Y_notes)\n",
        "    reg_log_norm.fit(X_notes_norm, Y_notes)\n",
        "    couts_nonorm.append(log_loss(Y_notes, reg_log_nonorm.predict(X_notes)))\n",
        "    couts_norm.append(log_loss(Y_notes, reg_log_norm.predict(X_notes_norm)))\n",
        "\n",
        "# Visualisation de la convergence\n",
        "plt.plot(couts_nonorm, label = 'sans normalisation')\n",
        "plt.plot(couts_norm  , label = 'avec normalisation')\n",
        "plt.xlabel('Nombre des itérations')\n",
        "plt.ylabel('Coût')\n",
        "plt.legend()\n",
        "#plt.autoscale()\n",
        "plt.show()"
      ]
    },
    {
      "cell_type": "markdown",
      "id": "12a51ba8",
      "metadata": {
        "id": "12a51ba8"
      },
      "source": [
        "**TODO: Analyser les résultats**\n",
        "\n",
        "- Que remarquez-vous ?\n",
        "- Donner une hypothèse (vitesse de convergence avec normalisation)\n",
        "- Essayer de justifier cette hypothèse par ce que vous avez vu en cours.\n",
        "\n",
        "**Réponse**\n",
        "\n",
        "-  Le modèle avec normalisation converge plus rapidement que le modèle sans normalisation, avec normalisation la courbe qui represente la fonction de coût de la régression logistique binaire en fonction du nombre d'itérations de la descente du gradient est au dessous de celle sans normalisation, par exemple pour 25 iterations le cout avec normalisation est 7, ce qui est inferieur au cout sans normalisation qui est 8.\n",
        "\n",
        "- la normalisation des données peut améliorer la vitesse de convergence des modèles (aide la fonction cout a converger rapidement).\n",
        "\n",
        "\n",
        "-  Cela est dû au fait que la normalisation des données peut aider à réduire les écarts d'échelle entre les variables et à rendre l'optimisation de la fonction de coût plus stable et plus efficace. Lorsque les données ne sont pas normalisées, les variables d'entrée peuvent avoir des plages de valeurs tres differentes. Cela signifie que les gradients associés à chaque variable peuvent également être très différents. Par conséquent, la descente du gradient prend plus de temps pour ajuster les parametres , ce qui ralenti la convergence.\n",
        "\n",
        "-- lorsqu'on a des caracteristiques avec des plages de valeurs diffèrentes on aura plus d'oscilations pour atteindre la valeur optimal"
      ]
    },
    {
      "cell_type": "markdown",
      "id": "c71e2488",
      "metadata": {
        "id": "c71e2488"
      },
      "source": [
        "#### II.2.2. Taux d'apprentissage et convergence \n",
        "\n",
        "Ici, nous avons varié le taux d'apprentissage et affiché les courbes de la fonction objective en fonction de nombre d'itérations. \n",
        "Nous voulons tester l'effet du taux d'apprentissage sur la convergence de notre modèle de régression.\n"
      ]
    },
    {
      "cell_type": "code",
      "execution_count": null,
      "id": "7a34a29a",
      "metadata": {
        "id": "7a34a29a",
        "outputId": "8e033b58-af17-480f-ca2c-ef3267d7307c"
      },
      "outputs": [
        {
          "data": {
            "image/png": "[encoded data removed]",
            "text/plain": [
              "<Figure size 640x480 with 1 Axes>"
            ]
          },
          "metadata": {},
          "output_type": "display_data"
        }
      ],
      "source": [
        "from sklearn.linear_model import SGDClassifier\n",
        "\n",
        "ITMAX  = 100\n",
        "alphas = [1., 0.1, 0.01, 0.001]\n",
        "\n",
        "# Création et entraînement des nouveaux modèles de régression linéaire\n",
        "for alpha in alphas:\n",
        "    # Création d'un nouveau modèle de régression linéaire\n",
        "    modele = SGDClassifier(penalty=None, \n",
        "                          max_iter=1, \n",
        "                          warm_start=True, \n",
        "                          loss='log_loss',\n",
        "                          learning_rate='constant', \n",
        "                          eta0=alpha, shuffle=False)\n",
        "    couts = []\n",
        "    for it in range(ITMAX):\n",
        "        # Entraînement du modèle\n",
        "        modele.fit(X_notes_norm, Y_notes)\n",
        "        couts.append(log_loss(Y_notes, modele.predict(X_notes_norm)))\n",
        "        \n",
        "    # Visualisation de la convergence\n",
        "    plt.plot(couts, label = 'alpha=' + str(alpha))\n",
        "    \n",
        "plt.xlabel('Nombre des itérations')\n",
        "plt.ylabel('Coût')\n",
        "plt.legend()\n",
        "#plt.autoscale()\n",
        "plt.show()"
      ]
    },
    {
      "cell_type": "markdown",
      "id": "eb7143a3",
      "metadata": {
        "id": "eb7143a3"
      },
      "source": [
        "**TODO: Analyser les résultats**\n",
        "\n",
        "- Que remarquez-vous ? (Il faut décrire les résultats).\n",
        "- Donner une hypothèse concernant le rapport entre le taux et la vitesse de convergence.\n",
        "- Essayer de justifier cette hypothèse par ce que vous avez vu en cours.\n",
        "- Pourquoi nous ne devons pas utiliser un taux égale à 1 avec seulement une itération en pratique (quel est le risque) ?\n",
        "\n",
        "**Réponse**\n",
        "\n",
        "- lorsque alpha=1, la fonction cout converge tres rapidement avec un nombre d'itérations qui ne depasse pas 20 itérations,  lorsque alpha=0.1, la fonction cout converge rapidement avec un petit nombre d'itérations (entre 20 et 40), lorsque alpha=0.01, la fonction cout converge moins rapidement avec un nombre entre 40 et 60 itérations, lorsque alpha=0.001, la fonction cout converge tres lentement ( avec 100 itérations le cout n'a pas atteint le min). En conclusion, on remarque que la convergence du modèle est proportionnelle a la valeur alpha et que le modèle avec alpha =1 converge plus rapidement que les autres. \n",
        "\n",
        "- la valeur de alpha joue un role important dans la convergence de la fonction cout,un taux d'apprentissage plus élevé signifie que les mises à jour des poids sont plus importantes (un plus grand pas), ce qui peut conduire dans certain cas à une convergence plus rapide (mais aussi à des oscillations et des instabilités).\n",
        "\n",
        "- pour un alpha assez petit on risque de ne pas jamais pouvoir minimiser la fonction, ou bien au moins le modèle peut mettre longtemps à être entraîné. Et avec un alpha assez grand la distance parcourue est trop longue et on peut arriver rapidement a une convergence dans certains cas ( comme notre cas ) mais on peut aussi dépasser la valeur minimale, et le modèle peut ne jamais converger. En général, un taux d'apprentissage plus petit peut prendre plus de temps pour converger, mais il est plus susceptible de conduire à des résultats stables et précis.\n",
        "\n",
        "\n",
        "- En utilisant un taux d'apprentissage égal à 1 avec suelement une iteration en pratique on peut risquer de \"sauter\" un minimum local pour en trouver un autre qui est moins optimal."
      ]
    },
    {
      "cell_type": "markdown",
      "id": "28a7ac5e",
      "metadata": {
        "id": "28a7ac5e"
      },
      "source": [
        "#### II.2.3. Complexité du modèle et séparation\n",
        "\n",
        "Nous voulons améliorer la séparation entre les deux classes : \"admis\" et \"non admis\". \n",
        "Pour ce faire, nous avons essayer d'utiliser des caractéristiques complexes : $X^3$ et $X^5$."
      ]
    },
    {
      "cell_type": "code",
      "execution_count": null,
      "id": "a3f24fc0",
      "metadata": {
        "id": "a3f24fc0",
        "outputId": "5f9f7478-3d09-4861-a4c4-1c7d757312b0"
      },
      "outputs": [
        {
          "data": {
            "image/png": "[encoded data removed]",
            "text/plain": [
              "<Figure size 1000x500 with 1 Axes>"
            ]
          },
          "metadata": {},
          "output_type": "display_data"
        }
      ],
      "source": [
        "from sklearn.preprocessing import PolynomialFeatures\n",
        "from sklearn.linear_model  import LogisticRegression\n",
        "\n",
        "degres = [3, 5]\n",
        "couleurs=['red', 'magenta', 'blue']\n",
        "\n",
        "# Une fonction pour dessiner le plan de séparation binaire étant donnée un modèle\n",
        "# modele : c'est un modèle enttraîné pour la prédiction binaire\n",
        "# ax: un objet de type matplotlib.axes.Axes; les axes sur lesquels on va dessiner\n",
        "# xrange: une liste des points sur l'axe X\n",
        "# yrange: une liste des points sur l'axe Y\n",
        "# couleur: la couleur du dessin (de la ligne de séparation)\n",
        "# label: l'étiquêtte du dessin (la ligne de séparation)\n",
        "def dessiner2D(modele, ax, xrange, yrange, couleur='red', label=''):\n",
        "    # Créer une matrice de (xrange X yrange): notre plan de dessin\n",
        "    XX   = [[[xr, yr] for xr in xrange] for yr in yrange]\n",
        "    # Représenter le sous forme d'une matrice de (xrange X yrange)/2 échantillons et 2 caractéristiques\n",
        "    XX   = np.array(XX).reshape(-1, 2)\n",
        "    # Prédire les probabilités (estimation) et retransformer vers notre plan (xrange X yrange)\n",
        "    grid = modele.predict(XX).reshape(len(xrange), len(yrange))\n",
        "    # Dessiner des lignes qui passent par les valeurs 0.5\n",
        "    cs   = ax.contour(xrange, yrange, grid, colors=[couleur], linewidths=(1), linestyles=('-'),levels=[0.5])\n",
        "    # Affecter l'étiquêtte à la ligne de séparation (qui es un contour dans notre cas)\n",
        "    # plt.clabel(cs, inline=1, fontsize=10)\n",
        "    # cs.collections[0].set_label(label)\n",
        "    fmt = {cs.levels[0]: label}\n",
        "    ax.clabel(cs, cs.levels, inline=True, fmt=fmt, fontsize=14)\n",
        "    \n",
        "\n",
        "\n",
        "X_notes_train = X_notes[:80, :]\n",
        "X_notes_test  = X_notes[80:, :]\n",
        "Y_notes_train = Y_notes[:80   ]\n",
        "Y_notes_test  = Y_notes[80:   ]\n",
        "\n",
        "# Trouver les indexes ordonnées \n",
        "idx2 = X_notes_train[:,0].argsort()\n",
        "\n",
        "# Sélectionner le cas \"admis\" dans l'entraînement et le test\n",
        "oui_train = Y_notes_train == 1\n",
        "oui_test  = Y_notes_test  == 1\n",
        "\n",
        "# Dessiner les cas \"admis\" et \"Non admis\" de l'entraînement et du test\n",
        "fig, ax = plt.subplots(figsize=(10, 5))\n",
        "ax.scatter(X_notes_train[oui_train, 0], \n",
        "           X_notes_train[oui_train, 1], \n",
        "           color='green', marker='o', label='Admis (entrainement)')\n",
        "ax.scatter(X_notes_train[~oui_train, 0], \n",
        "           X_notes_train[~oui_train, 1], \n",
        "           color='green', marker='x', label='Non Admis (entrainement)')\n",
        "ax.scatter(X_notes_test[oui_test, 0], \n",
        "           X_notes_test[oui_test, 1], \n",
        "           color='red', marker='o', label='Admis (test)')\n",
        "ax.scatter(X_notes_test[~oui_test, 0], \n",
        "           X_notes_test[~oui_test, 1], \n",
        "           color='red', marker='x', label='Non Admis (test)')\n",
        "\n",
        "# Créer l'espace des notes : entre 0 et 20 avec une résolution de 50\n",
        "xrange = np.linspace(0, 20, 50) # Note 1\n",
        "yrange = np.linspace(0, 20, 50) # Note 2\n",
        "\n",
        "# Dessiner la ligne de séparation dans une régression linéaire\n",
        "reglog1 = LogisticRegression(penalty=None)\n",
        "reglog1.fit(X_notes_train, Y_notes_train)\n",
        "dessiner2D(reglog1, ax, xrange, yrange, label='X')\n",
        "\n",
        "modeles = [reglog1]\n",
        "\n",
        "# Dessiner la ligne de séparation dans une régression polynomiale\n",
        "# Le modèle dans ce cas est un pipeline qui commence par créer des caractéristiques polynomiales\n",
        "# ensuite passe le résultat vers un modèle de régression logistique\n",
        "for i in range(len(degres)):\n",
        "    modele = make_pipeline(PolynomialFeatures(degree=degres[i], include_bias=False),\n",
        "                           LogisticRegression(penalty=None))\n",
        "    modele.fit(X_notes_train, Y_notes_train)\n",
        "    dessiner2D(modele, ax, xrange, yrange, couleur=couleurs[i+1], label='X^' + str(degres[i]))\n",
        "    modeles.append(modele)\n",
        "\n",
        "plt.xlabel('Note 1')\n",
        "plt.ylabel('Note 2')\n",
        "plt.legend(loc='upper right')\n",
        "plt.show()"
      ]
    },
    {
      "cell_type": "markdown",
      "id": "dc6b28ab",
      "metadata": {
        "id": "dc6b28ab"
      },
      "source": [
        "**TODO: Analyser les résultats**\n",
        "\n",
        "- Que remarquez-vous (les nouveaux modèles ont-ils été capables d'améliorer le modèle initial: l'adjustement = fitting (par rapport a la data set de train)/fitting et la généralisation(par rapport a la data set de test)) ? \n",
        "- Donner une hypothèse (Quelle est la raison d'amélioration/détérioration ?) \n",
        "- Essayer de justifier cette hypothèse par ce que vous avez vu en cours.\n",
        "\n",
        "**Réponse**\n",
        "\n",
        "- non, les nouveaux models n'étaient pas capable d'améliorer le modèle initial ,les nouveau modèles étaient top ajustés aux données d'entrainements et les modèles obtenus ne sont pas généralisables pour les donnees de test.\n",
        "\n",
        "- Lorsque on a augmenté le degré du polynome séparant  les classes on aurra un modèle complexe (variance élevée) donc on risque le sur-apprentissage et les nouveau modèles obtenus sont top ajustés aux données d'entrainements.\n",
        "\n",
        "- L'orsque l'on a augmenter la compléxité du modèle ce dernier a commancer à capturer des relations très spécifiques dans les données d'entraînement qui ne se généralisent pas bien aux données de test.En d'autres termes, le modèle est devenu trop spécialisé pour les données d'entraînement et n'est pas capable de généraliser correctement à de nouvelles données. Plus un modèle est complexe, plus il est susceptible de sur-apprendre, donc il faut rajouter des observations pour un meilleur apprentissage ou réduire le nombres d'attributs."
      ]
    }
  ],
  "metadata": {
    "kernelspec": {
      "display_name": "Python 3 (ipykernel)",
      "language": "python",
      "name": "python3"
    },
    "language_info": {
      "codemirror_mode": {
        "name": "ipython",
        "version": 3
      },
      "file_extension": ".py",
      "mimetype": "text/x-python",
      "name": "python",
      "nbconvert_exporter": "python",
      "pygments_lexer": "ipython3",
      "version": "3.9.7"
    },
    "colab": {
      "provenance": []
    }
  },
  "nbformat": 4,
  "nbformat_minor": 5
}