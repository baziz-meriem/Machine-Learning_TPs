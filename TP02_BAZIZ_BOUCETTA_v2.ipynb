{
  "cells": [
    {
      "cell_type": "markdown",
      "source": [],
      "metadata": {
        "id": "Ss2rKoGH4Jy6"
      }
    },
    {
      "cell_type": "markdown",
      "source": [],
      "metadata": {
        "id": "bkg_CwCQGy4L"
      }
    },
    {
      "cell_type": "markdown",
      "metadata": {
        "id": "QDWcYoPc60JP"
      },
      "source": [
        "# 2CS SIQ2-SIL2 TP02. Régression logistique Multi-classes\n",
        "\n",
        "Dans ce TP, nous allons généraliser la réression linéaire binaire afin de traiter le cas de multiples classes.\n",
        "Ensuite, dans la partie analyse, nous allons voir quelques méthodes pour traiter le classement multi-classes (cas d'étude, régression logistique)."
      ]
    },
    {
      "cell_type": "markdown",
      "metadata": {
        "id": "YhGdBSze60JS"
      },
      "source": [
        "- **Binôme** **01** : BAZIZ meriem \n",
        "- **Binôme** **02** :BOUCETTA Anfal Yousra\n",
        "- **Groupe** : SIL2"
      ]
    },
    {
      "cell_type": "code",
      "source": [],
      "metadata": {
        "id": "C1gbTw_Z3x_f"
      },
      "execution_count": null,
      "outputs": []
    },
    {
      "cell_type": "code",
      "execution_count": null,
      "metadata": {
        "colab": {
          "base_uri": "https://localhost:8080/"
        },
        "id": "RV57O0eM60JT",
        "outputId": "bf891629-6717-4975-c754-2e9785f76e14"
      },
      "outputs": [
        {
          "output_type": "execute_result",
          "data": {
            "text/plain": [
              "('1.22.4', '1.4.4', '3.7.1')"
            ]
          },
          "metadata": {},
          "execution_count": 1
        }
      ],
      "source": [
        "import numpy             as np\n",
        "import pandas            as pd \n",
        "import matplotlib.pyplot as plt \n",
        "import matplotlib\n",
        "%matplotlib inline\n",
        "\n",
        "np.__version__, pd.__version__, matplotlib.__version__"
      ]
    },
    {
      "cell_type": "code",
      "execution_count": null,
      "metadata": {
        "id": "XkqHgMOj60JV"
      },
      "outputs": [],
      "source": [
        "from typing          import Tuple, List, Type\n",
        "from collections.abc import Callable"
      ]
    },
    {
      "cell_type": "markdown",
      "metadata": {
        "id": "LE7wBVR660JW"
      },
      "source": [
        "**INTRODUCTION**\n",
        "\n",
        "Nous avons implémenté le cas d'une seule classe (binaire : oui ou non). \n",
        "Pour appliquer un classement sur plusieurs classes, nous pouvons entraîner $L$ modèles de régression logistique (où $L$ est le nombre des classes). \n",
        "Dans ce cas, nos résultats (Y) doivent encodée en 0 et 1. \n",
        "Pour un modèle $M_i$ d'une classe $C_i$, la sortie $Y$ doit avoir 1 si $C_i$, 0 si une autre classe. \n",
        "Cette architecture est appelée : One-to-rest classification.\n",
        "\n",
        "Une autre approche (celle que nous allons implémenter) est d'encoder la sortie en utilisant OneHot encoder. \n",
        "Pour $L$ classes et un échantillon donnée, nous allons avoir $L$ sorties (une ayant 1 et les autres 0). \n",
        "Pour un dataset avec $M$ échantillons, $N$ caractéristiques et $L$ classes, nous allons avoir les dimensions suivantes : \n",
        "- $X [M, N]$\n",
        "- $Y [M, L]$\n",
        "- $\\theta [N, L]$\n",
        "\n",
        "Cette dernière approche s'appelle maximum entropy (MaxEnt). \n",
        "C'est une généralisation de la régresion logistique binaire.\n",
        "\n",
        "\n",
        "## I. Réalisation des algorithmes\n",
        "\n",
        "Cette partie sert à améliorer la compréhension des algorithmes d'apprentissage automatique vus en cours en les implémentant à partir de zéro. \n",
        "Pour ce faire, nous allons utiliser la bibliothèque **numpy** qui est utile dans les calcules surtout matricielles.\n",
        "\n",
        "### I.1. Combinaison linéaire\n",
        "\n",
        "Les $N$  caractéristiques sont combinées linéairement comme dans la régression linéaire binaire. \n",
        "La seule différence est que nous avons plus de classes, donc le nombre des paramètres va être multiplié par le nombre des classes.\n",
        "La somme pondérée d'une classe $c$ est calculée selon la formule : \n",
        "\n",
        "$$Z_c = zfn_c(X, \\theta) = \\sum\\limits_{j=0}^{N} \\theta_{(c, j)} X_j | X_0 = 1 $$\n",
        "\n",
        "La forme matricielle de $Z$ sera : \n",
        "$$Z = zfn(X, \\theta) = X \\cdot \\theta$$\n",
        "\n",
        "- $X[M, N]$      : une matrice de M lignes (échantillons) et N colonnes (caractéristiques, y compris le biais).  \n",
        "- $\\theta[N, L]$ : une matrice de N lignes (caractéristiques, y compris le biais) et L colonnes (classes). \n",
        "- $Z[M, L]$      : une matrice de M lignes (échantillons) et L colonnes (classes)."
      ]
    },
    {
      "cell_type": "code",
      "execution_count": null,
      "metadata": {
        "colab": {
          "base_uri": "https://localhost:8080/"
        },
        "id": "3m53nx_960JX",
        "outputId": "d685b58e-2c08-4c3e-c0b6-5db706acd775"
      },
      "outputs": [
        {
          "output_type": "execute_result",
          "data": {
            "text/plain": [
              "array([[0. , 0. , 0. ],\n",
              "       [0.5, 0.1, 0.6],\n",
              "       [0.2, 0.3, 0. ],\n",
              "       [0.7, 0.4, 0.6]])"
            ]
          },
          "metadata": {},
          "execution_count": 3
        }
      ],
      "source": [
        "# TODO: Combinaison linéaire \n",
        "def zfn(X: np.ndarray, Theta: np.ndarray) -> np.ndarray: \n",
        "    return X@Theta\n",
        "\n",
        "#=====================================================================\n",
        "# TEST UNITAIRE\n",
        "#=====================================================================\n",
        "# Resultat : \n",
        "# array([[0. , 0. , 0. ],\n",
        "#        [0.5, 0.1, 0.6],\n",
        "#        [0.2, 0.3, 0. ],\n",
        "#        [0.7, 0.4, 0.6]])\n",
        "#---------------------------------------------------------------------\n",
        "\n",
        "X_tn = np.array([[0., 0.], \n",
        "                 [1., 0.], \n",
        "                 [0., 1.], \n",
        "                 [1., 1.]]) # 4 échntillons, 2 caractéristiques\n",
        "Theta_tn = np.array([[0.5, 0.1, 0.6],\n",
        "                     [0.2, 0.3, 0.0]]) # 2 caractéristiques, 3 classes \n",
        "\n",
        "zfn(X_tn, Theta_tn)"
      ]
    },
    {
      "cell_type": "markdown",
      "metadata": {
        "id": "q0kjbIyd60JY"
      },
      "source": [
        "### I.2. Calcul des probabilités\n",
        "\n",
        "Les valeurs combinées sont transformées à des probabilités en utilisant la fonction softmax. \n",
        "La fonction softmax nous assure que la somme des probabilités des classes soit égale à 1.\n",
        "Cette fonction prend les combinaisons linéaires $Z[M, L]$ et calcule les probabilités $P[M, L]$ comme suite : \n",
        "\n",
        "$$softmax(Z)=\\frac{e^Z}{\\sum\\limits_{k=1}^{L} e^{Z_k}}$$\n",
        "\n",
        "- $M$ : nombre des échantillons\n",
        "- $N$ : nombre des caractéristiques\n",
        "- $L$ : nombre des classes\n",
        "- La somme des probabilités de chaque ligne doit être 1"
      ]
    },
    {
      "cell_type": "code",
      "execution_count": null,
      "metadata": {
        "colab": {
          "base_uri": "https://localhost:8080/"
        },
        "id": "kKZ-SLfw60JZ",
        "outputId": "d232706f-6c05-4225-b8a3-0de8ac39509e"
      },
      "outputs": [
        {
          "output_type": "execute_result",
          "data": {
            "text/plain": [
              "array([[0.33333333, 0.33333333, 0.33333333],\n",
              "       [0.36029662, 0.24151404, 0.39818934],\n",
              "       [0.34200877, 0.37797814, 0.28001309],\n",
              "       [0.37797814, 0.28001309, 0.34200877]])"
            ]
          },
          "metadata": {},
          "execution_count": 4
        }
      ],
      "source": [
        "# TODO: Softmax\n",
        "def softmax(Z: np.ndarray) -> np.ndarray:\n",
        "    exp_Z = np.exp(Z)\n",
        "    softmax = exp_Z / np.tile(np.sum(exp_Z,axis=1),(Z.shape[1],1)).T\n",
        "    return softmax\n",
        "\n",
        "#=====================================================================\n",
        "# TEST UNITAIRE\n",
        "#=====================================================================\n",
        "# Resultat : \n",
        "# array([[0.33333333, 0.33333333, 0.33333333],\n",
        "#       [0.36029662, 0.24151404, 0.39818934],\n",
        "#       [0.34200877, 0.37797814, 0.28001309],\n",
        "#       [0.37797814, 0.28001309, 0.34200877]])\n",
        "#---------------------------------------------------------------------\n",
        "Z_tn = np.array([[0. , 0. , 0. ],\n",
        "                 [0.5, 0.1, 0.6],\n",
        "                 [0.2, 0.3, 0. ],\n",
        "                 [0.7, 0.4, 0.6]])\n",
        "softmax(Z_tn)"
      ]
    },
    {
      "cell_type": "markdown",
      "metadata": {
        "id": "hbgLjdP060JZ"
      },
      "source": [
        "### I.3. Prédiction \n",
        "\n",
        "Etant donnée les probabilités des classes pour chaque échantillon, nous devons choisir la classe avec le max de probabilité.\n",
        "\n",
        "$$\n",
        "\\hat{C}^{(i)}_j = \n",
        "\\begin{cases}\n",
        "1 & si & H^{(i)}_j \\ge \\max P^{(i)}\\\\\n",
        "0 & sinon & \\\\\n",
        "\\end{cases}\n",
        "$$\n",
        "\n",
        "- $H[M, L]$ probabilités où chaque ligne est un échantillon et chaque colonne est une classe\n",
        "- $\\hat{C}[M, L]$ prédictions où chaque ligne est un échantillon et chaque colonne est une classe. $\\hat{C}^{(i)}_j \\in \\{0, 1\\}$\n",
        "\n",
        "Lorsqu'il y a deux colonnes ou plus ayant le même max, nous prenons la première."
      ]
    },
    {
      "cell_type": "code",
      "execution_count": null,
      "metadata": {
        "colab": {
          "base_uri": "https://localhost:8080/"
        },
        "id": "dVU0lScw60Ja",
        "outputId": "fdfdf13d-d212-495b-d724-537144edfed3"
      },
      "outputs": [
        {
          "output_type": "execute_result",
          "data": {
            "text/plain": [
              "array([[1., 0., 0.],\n",
              "       [0., 0., 1.],\n",
              "       [0., 1., 0.],\n",
              "       [1., 0., 0.]])"
            ]
          },
          "metadata": {},
          "execution_count": 5
        }
      ],
      "source": [
        "# TODO: Prédictions multiclasses\n",
        "def cn(H: np.ndarray) -> np.ndarray:\n",
        "    # Get the index of the maximum value in each row of H\n",
        "    max_index = np.argmax(H, axis=1)\n",
        "    C = np.zeros_like(H)\n",
        "    C[np.arange(H.shape[0]), max_index] = 1\n",
        "    \n",
        "    return C\n",
        "#=====================================================================\n",
        "# TEST UNITAIRE\n",
        "#=====================================================================\n",
        "# Resultat : \n",
        "# array([[1, 0, 0],\n",
        "#        [0, 0, 1],\n",
        "#        [0, 1, 0],\n",
        "#        [1, 0, 0]])\n",
        "#---------------------------------------------------------------------\n",
        "\n",
        "H_tn = np.array([[0.33333333, 0.33333333, 0.33333333],\n",
        "             [0.36029662, 0.24151404, 0.39818934],\n",
        "             [0.34200877, 0.37797814, 0.28001309],\n",
        "             [0.37797814, 0.28001309, 0.34200877]])\n",
        "cn(H_tn)"
      ]
    },
    {
      "cell_type": "markdown",
      "metadata": {
        "id": "-HxY2TdA60Jb"
      },
      "source": [
        "### I.4. Calcul du coût \n",
        "\n",
        "Nous référons aux probabilités calculées par la fonction softmax comme $H$, où $H_c$ est la probabilité d'une classe $c$.\n",
        "Etant donné un échantillon $X^{(i)}$, son coût est calculé comme : \n",
        "\n",
        "$$ cout(H^{(i)}, Y^{(i)}) = - \\sum\\limits_{c=1}^{L} Y^{(i)}_c \\log(H^{(i)}_c)$$\n",
        "\n",
        "Le coût total est la moyenne des coût de tous les échantillons\n",
        "\n",
        "$$J(H, Y) = \\frac{1}{M} \\sum\\limits_{i=1}^{M} cout(H^{(i)}, Y^{(i)})$$\n",
        "\n",
        "- $H[M, L]$ : les probabilités estimées de chaque échantillon (M) de chaque classe (L)\n",
        "- $Y[M, L]$ : les probabilités réelles (1 ou 0) de chaque échantillon (M) de chaque classe (L)"
      ]
    },
    {
      "cell_type": "code",
      "execution_count": null,
      "metadata": {
        "colab": {
          "base_uri": "https://localhost:8080/"
        },
        "id": "3U-lEFgj60Jb",
        "outputId": "552ef010-b450-490c-e96d-6e161da4b8ac"
      },
      "outputs": [
        {
          "output_type": "execute_result",
          "data": {
            "text/plain": [
              "1.1913194530574498"
            ]
          },
          "metadata": {},
          "execution_count": 6
        }
      ],
      "source": [
        "# TODO: Coût du classement multiclasses \n",
        "def jn(H: np.ndarray, Y: np.ndarray) -> np.ndarray:\n",
        "    M = Y.shape[0]\n",
        "    cout = -np.sum(Y*np.log(H))\n",
        "    return 1/M*np.sum(cout)\n",
        "\n",
        "#=====================================================================\n",
        "# TEST UNITAIRE\n",
        "#=====================================================================\n",
        "# Resultat : 1.1913194530574498\n",
        "#---------------------------------------------------------------------\n",
        "\n",
        "H_tn = np.array([[0.33333333, 0.33333333, 0.33333333],\n",
        "                 [0.36029662, 0.24151404, 0.39818934],\n",
        "                 [0.34200877, 0.37797814, 0.28001309],\n",
        "                 [0.37797814, 0.28001309, 0.34200877]])\n",
        "Y_tn = np.array([[1,0,0], [0,1,0], [0,0,1], [1,0,0]])\n",
        "\n",
        "jn(H_tn, Y_tn)"
      ]
    },
    {
      "cell_type": "markdown",
      "metadata": {
        "id": "_483lhGF60Jc"
      },
      "source": [
        "### I.5. Calcul des gradients\n",
        "\n",
        "La taille des gradients est la même que celle des paramètres $\\theta[N, L]$. \n",
        "\n",
        "$$\\frac{\\partial J}{\\theta_j} = \\frac{1}{M} \\sum\\limits_{i=1}^{M} (H^{(i)} - Y^{(i)}) X^{(i)}_{j} $$\n",
        "\n",
        "Sa forme matricielle sera \n",
        "$$\\frac{\\partial J}{\\theta_j} = \\frac{1}{M} X^\\top \\cdot (H-Y) $$\n",
        "\n",
        "- $X[M, N]$ : une matrice de M lignes (échantillons) et N colonnes (caractéristiques, y compris le biais).  \n",
        "- $H[M, L]$ : les probabilités estimées de chaque échantillon (M) de chaque classe (L)\n",
        "- $Y[M, L]$ : les probabilités réelles (1 ou 0) de chaque échantillon (M) de chaque classe (L)\n",
        "- $\\frac{\\partial J}{\\theta}[N, L]$ : une matrice de L lignes (classes) et N colonnes (caractéristiques, y compris le biais). "
      ]
    },
    {
      "cell_type": "code",
      "execution_count": null,
      "metadata": {
        "colab": {
          "base_uri": "https://localhost:8080/"
        },
        "id": "eJhLrZCY60Jc",
        "outputId": "b7073b53-6469-4d12-cc56-0b42558b98f1"
      },
      "outputs": [
        {
          "output_type": "execute_result",
          "data": {
            "text/plain": [
              "array([[-0.06543131, -0.11961822,  0.18504953],\n",
              "       [-0.07000327,  0.16449781, -0.09449454]])"
            ]
          },
          "metadata": {},
          "execution_count": 7
        }
      ],
      "source": [
        "# TODO: Gradients multiclasses\n",
        "def dJn(X: np.ndarray, H: np.ndarray, Y: np.ndarray) -> np.ndarray:\n",
        "    M = Y.shape[0]\n",
        "    return 1/M*X.T @ (H-Y)\n",
        "\n",
        "#=====================================================================\n",
        "# TEST UNITAIRE\n",
        "#=====================================================================\n",
        "# Resultat : \n",
        "# array([[-0.06543131, -0.11961822,  0.18504953],\n",
        "#        [-0.07000327,  0.16449781, -0.09449454]])\n",
        "#---------------------------------------------------------------------\n",
        "X_tn = np.array([[0., 0.], [1., 0.], [0., 1.], [1., 1.]])\n",
        "H_tn = np.array([[0.33333333, 0.33333333, 0.33333333],\n",
        "                 [0.36029662, 0.24151404, 0.39818934],\n",
        "                 [0.34200877, 0.37797814, 0.28001309],\n",
        "                 [0.37797814, 0.28001309, 0.34200877]])\n",
        "Y_tn = np.array([[1,0,0], [0,1,0], [0,0,1], [1,0,0]])\n",
        "\n",
        "dJn(X_tn, H_tn, Y_tn)"
      ]
    },
    {
      "cell_type": "markdown",
      "metadata": {
        "id": "bL-gM5fC60Jd"
      },
      "source": [
        "### I.6. Descente du gradient adaptative\n",
        "\n",
        "**Rien à programmer ici**"
      ]
    },
    {
      "cell_type": "code",
      "execution_count": null,
      "metadata": {
        "id": "Fl785U9W60Jd"
      },
      "outputs": [],
      "source": [
        "def descente(X, Y, Theta, ITER=100, alpha=0.1):\n",
        "    couts = []\n",
        "\n",
        "    Theta = Theta.copy() # pour ne pas modifier Theta original\n",
        "    \n",
        "    for i in range(ITER): # Ici, la seule condition d'arrêt est le nombre des itérations\n",
        "        H = softmax(zfn(X, Theta))\n",
        "        couts.append(jn(H, Y))\n",
        "        Theta = Theta - alpha * dJn(X, H, Y)\n",
        "    \n",
        "    return Theta, couts\n",
        "\n"
      ]
    },
    {
      "cell_type": "markdown",
      "metadata": {
        "id": "Qdu6Ay-560Jd"
      },
      "source": [
        "### I.7. Regrouper les fonctions ensemble \n",
        "\n",
        "Pour bien gérer l'entraînement et la prédiction, les fonctions que nous avions implémentées sont regroupées dans une seul classe. \n",
        "L'intérêt : \n",
        "- Si nous appliquons la normalisation durant l'entraînement, nous devons l'appliquer aussi durant la prédiction. En plus, nous devons utiliser les mêmes paramètres (moyenne et écart-type)\n",
        "- Nous utilisons les thétas optimales lors de la prédicition.\n"
      ]
    },
    {
      "cell_type": "code",
      "execution_count": null,
      "metadata": {
        "id": "HHE_4GGm60Je",
        "outputId": "cff52070-6a52-4a59-a754-846f4d50956e",
        "colab": {
          "base_uri": "https://localhost:8080/"
        }
      },
      "outputs": [
        {
          "output_type": "execute_result",
          "data": {
            "text/plain": [
              "array([[1., 0., 0.],\n",
              "       [0., 1., 0.],\n",
              "       [0., 1., 0.],\n",
              "       [0., 0., 1.]])"
            ]
          },
          "metadata": {},
          "execution_count": 9
        }
      ],
      "source": [
        "def normaliser(X, mean=None, std=None): \n",
        "    if (mean is None) or (std is None): \n",
        "        mean = np.mean(X, axis=0)\n",
        "        std = np.std(X, axis=0)\n",
        "    X_norm = np.where(std==0, X, (X - mean)/std)\n",
        "    return X_norm, mean, std\n",
        "\n",
        "def preparer(X, norm=True, const=True, mean=None, std=None): \n",
        "    X_pre = X.copy()\n",
        "    if norm: \n",
        "        X_pre, mean, std = normaliser(X_pre,mean=mean, std=std)\n",
        "    if const:\n",
        "        X_pre = np.append(np.ones((X_pre.shape[0],1)), X_pre ,axis=1)\n",
        "    return X_pre, mean, std\n",
        "\n",
        "class MaxEnt(object):\n",
        "    \n",
        "    def __init__(self, norm=True, const=True): \n",
        "        self.norm = norm\n",
        "        self.const = const\n",
        "    \n",
        "    def entrainer(self, X, Y, max_iter=100, alpha=.01): \n",
        "        X_pre, self.mean, self.std = preparer(X, norm=self.norm, const=self.const)\n",
        "        Theta = np.zeros((X_pre.shape[1], Y.shape[1])) # Theta[N, L]\n",
        "        self.Theta, self.couts = descente(X_pre, Y, Theta, ITER=max_iter, alpha=alpha)\n",
        "        \n",
        "        \n",
        "    # La prédiction\n",
        "    # si prob=True elle rend un vecteur de probabilités\n",
        "    # sinon elle rend une vecteur de 1 et 0\n",
        "    def predire(self, X, prob=True):\n",
        "        X_pre, self.mean, self.std = preparer(X, norm=self.norm, const=self.const, mean=self.mean, std=self.std)\n",
        "        H = softmax(zfn(X_pre, self.Theta))\n",
        "        if prob:\n",
        "            return H\n",
        "        return cn(H)\n",
        "\n",
        "\n",
        "#=====================================================================\n",
        "# TEST UNITAIRE\n",
        "#=====================================================================\n",
        "# Resultat : \n",
        "# array([[1, 0, 0],\n",
        "#        [0, 1, 0],\n",
        "#        [0, 1, 0],\n",
        "#        [0, 0, 1]])\n",
        "#---------------------------------------------------------------------\n",
        "X_tn = np.array([[0., 0.], [1., 0.], [0., 1.], [1., 1.]]) # deux variables logiques\n",
        "Y_tn = np.array([[1,0,0], [0,1,0], [0,0,1], [1,0,0]]) # égale, sup, inf, égale\n",
        "\n",
        "X_testn = np.array([[2., 2.], [1., 0.], [1., -1.], [2., 5.]])\n",
        "\n",
        "maxent = MaxEnt()\n",
        "maxent.entrainer(X_tn, Y_tn)\n",
        "maxent.predire(X_testn, prob=False)"
      ]
    },
    {
      "cell_type": "markdown",
      "metadata": {
        "id": "mGgiBzNx60Jf"
      },
      "source": [
        "## II. Application et analyse\n",
        "\n",
        "Nous allons utiliser [Iris dataset](https://archive.ics.uci.edu/ml/datasets/iris) pour classer des fleurs en trois classes, en utilisant 4 caractéristiques. \n",
        "Pour simplification, nous allons utiliser seulement 2 caractéristiques : Petal Length (cm); Petal Width (cm). \n",
        "D'après [Ce tutoriel](https://teddykoker.com/2019/06/multi-class-classification-with-logistic-regression-in-python/) ces deux caractéristiques sont suffisantes.\n"
      ]
    },
    {
      "cell_type": "code",
      "execution_count": null,
      "metadata": {
        "colab": {
          "base_uri": "https://localhost:8080/"
        },
        "id": "ZsceR4SR60Jg",
        "outputId": "fd4ebf67-f11f-4a34-faa6-14f4ae730922"
      },
      "outputs": [
        {
          "output_type": "execute_result",
          "data": {
            "text/plain": [
              "   sepal_length  sepal_width  petal_length  petal_width        class\n",
              "0           5.1          3.5           1.4          0.2  Iris-setosa\n",
              "1           4.9          3.0           1.4          0.2  Iris-setosa\n",
              "2           4.7          3.2           1.3          0.2  Iris-setosa\n",
              "3           4.6          3.1           1.5          0.2  Iris-setosa\n",
              "4           5.0          3.6           1.4          0.2  Iris-setosa"
            ],
            "text/html": [
              "\n",
              "  <div id=\"df-549ebfdc-15dd-4bb0-b970-2a6a44d3de59\">\n",
              "    <div class=\"colab-df-container\">\n",
              "      <div>\n",
              "<style scoped>\n",
              "    .dataframe tbody tr th:only-of-type {\n",
              "        vertical-align: middle;\n",
              "    }\n",
              "\n",
              "    .dataframe tbody tr th {\n",
              "        vertical-align: top;\n",
              "    }\n",
              "\n",
              "    .dataframe thead th {\n",
              "        text-align: right;\n",
              "    }\n",
              "</style>\n",
              "<table border=\"1\" class=\"dataframe\">\n",
              "  <thead>\n",
              "    <tr style=\"text-align: right;\">\n",
              "      <th></th>\n",
              "      <th>sepal_length</th>\n",
              "      <th>sepal_width</th>\n",
              "      <th>petal_length</th>\n",
              "      <th>petal_width</th>\n",
              "      <th>class</th>\n",
              "    </tr>\n",
              "  </thead>\n",
              "  <tbody>\n",
              "    <tr>\n",
              "      <th>0</th>\n",
              "      <td>5.1</td>\n",
              "      <td>3.5</td>\n",
              "      <td>1.4</td>\n",
              "      <td>0.2</td>\n",
              "      <td>Iris-setosa</td>\n",
              "    </tr>\n",
              "    <tr>\n",
              "      <th>1</th>\n",
              "      <td>4.9</td>\n",
              "      <td>3.0</td>\n",
              "      <td>1.4</td>\n",
              "      <td>0.2</td>\n",
              "      <td>Iris-setosa</td>\n",
              "    </tr>\n",
              "    <tr>\n",
              "      <th>2</th>\n",
              "      <td>4.7</td>\n",
              "      <td>3.2</td>\n",
              "      <td>1.3</td>\n",
              "      <td>0.2</td>\n",
              "      <td>Iris-setosa</td>\n",
              "    </tr>\n",
              "    <tr>\n",
              "      <th>3</th>\n",
              "      <td>4.6</td>\n",
              "      <td>3.1</td>\n",
              "      <td>1.5</td>\n",
              "      <td>0.2</td>\n",
              "      <td>Iris-setosa</td>\n",
              "    </tr>\n",
              "    <tr>\n",
              "      <th>4</th>\n",
              "      <td>5.0</td>\n",
              "      <td>3.6</td>\n",
              "      <td>1.4</td>\n",
              "      <td>0.2</td>\n",
              "      <td>Iris-setosa</td>\n",
              "    </tr>\n",
              "  </tbody>\n",
              "</table>\n",
              "</div>\n",
              "      <button class=\"colab-df-convert\" onclick=\"convertToInteractive('df-549ebfdc-15dd-4bb0-b970-2a6a44d3de59')\"\n",
              "              title=\"Convert this dataframe to an interactive table.\"\n",
              "              style=\"display:none;\">\n",
              "        \n",
              "  <svg xmlns=\"http://www.w3.org/2000/svg\" height=\"24px\"viewBox=\"0 0 24 24\"\n",
              "       width=\"24px\">\n",
              "    <path d=\"M0 0h24v24H0V0z\" fill=\"none\"/>\n",
              "    <path d=\"M18.56 5.44l.94 2.06.94-2.06 2.06-.94-2.06-.94-.94-2.06-.94 2.06-2.06.94zm-11 1L8.5 8.5l.94-2.06 2.06-.94-2.06-.94L8.5 2.5l-.94 2.06-2.06.94zm10 10l.94 2.06.94-2.06 2.06-.94-2.06-.94-.94-2.06-.94 2.06-2.06.94z\"/><path d=\"M17.41 7.96l-1.37-1.37c-.4-.4-.92-.59-1.43-.59-.52 0-1.04.2-1.43.59L10.3 9.45l-7.72 7.72c-.78.78-.78 2.05 0 2.83L4 21.41c.39.39.9.59 1.41.59.51 0 1.02-.2 1.41-.59l7.78-7.78 2.81-2.81c.8-.78.8-2.07 0-2.86zM5.41 20L4 18.59l7.72-7.72 1.47 1.35L5.41 20z\"/>\n",
              "  </svg>\n",
              "      </button>\n",
              "      \n",
              "  <style>\n",
              "    .colab-df-container {\n",
              "      display:flex;\n",
              "      flex-wrap:wrap;\n",
              "      gap: 12px;\n",
              "    }\n",
              "\n",
              "    .colab-df-convert {\n",
              "      background-color: #E8F0FE;\n",
              "      border: none;\n",
              "      border-radius: 50%;\n",
              "      cursor: pointer;\n",
              "      display: none;\n",
              "      fill: #1967D2;\n",
              "      height: 32px;\n",
              "      padding: 0 0 0 0;\n",
              "      width: 32px;\n",
              "    }\n",
              "\n",
              "    .colab-df-convert:hover {\n",
              "      background-color: #E2EBFA;\n",
              "      box-shadow: 0px 1px 2px rgba(60, 64, 67, 0.3), 0px 1px 3px 1px rgba(60, 64, 67, 0.15);\n",
              "      fill: #174EA6;\n",
              "    }\n",
              "\n",
              "    [theme=dark] .colab-df-convert {\n",
              "      background-color: #3B4455;\n",
              "      fill: #D2E3FC;\n",
              "    }\n",
              "\n",
              "    [theme=dark] .colab-df-convert:hover {\n",
              "      background-color: #434B5C;\n",
              "      box-shadow: 0px 1px 3px 1px rgba(0, 0, 0, 0.15);\n",
              "      filter: drop-shadow(0px 1px 2px rgba(0, 0, 0, 0.3));\n",
              "      fill: #FFFFFF;\n",
              "    }\n",
              "  </style>\n",
              "\n",
              "      <script>\n",
              "        const buttonEl =\n",
              "          document.querySelector('#df-549ebfdc-15dd-4bb0-b970-2a6a44d3de59 button.colab-df-convert');\n",
              "        buttonEl.style.display =\n",
              "          google.colab.kernel.accessAllowed ? 'block' : 'none';\n",
              "\n",
              "        async function convertToInteractive(key) {\n",
              "          const element = document.querySelector('#df-549ebfdc-15dd-4bb0-b970-2a6a44d3de59');\n",
              "          const dataTable =\n",
              "            await google.colab.kernel.invokeFunction('convertToInteractive',\n",
              "                                                     [key], {});\n",
              "          if (!dataTable) return;\n",
              "\n",
              "          const docLinkHtml = 'Like what you see? Visit the ' +\n",
              "            '<a target=\"_blank\" href=https://colab.research.google.com/notebooks/data_table.ipynb>data table notebook</a>'\n",
              "            + ' to learn more about interactive tables.';\n",
              "          element.innerHTML = '';\n",
              "          dataTable['output_type'] = 'display_data';\n",
              "          await google.colab.output.renderOutput(dataTable, element);\n",
              "          const docLink = document.createElement('div');\n",
              "          docLink.innerHTML = docLinkHtml;\n",
              "          element.appendChild(docLink);\n",
              "        }\n",
              "      </script>\n",
              "    </div>\n",
              "  </div>\n",
              "  "
            ]
          },
          "metadata": {},
          "execution_count": 15
        }
      ],
      "source": [
        "iris = pd.read_csv('sample_data/iris.csv')\n",
        "iris.head()"
      ]
    },
    {
      "cell_type": "code",
      "execution_count": null,
      "metadata": {
        "colab": {
          "base_uri": "https://localhost:8080/"
        },
        "id": "z97GMkfB60Ji",
        "outputId": "9636c042-086d-4efe-c829-e2d88a7c12af"
      },
      "outputs": [
        {
          "output_type": "execute_result",
          "data": {
            "text/plain": [
              "   petal_length  petal_width        class\n",
              "0           1.4          0.2  Iris-setosa\n",
              "1           1.4          0.2  Iris-setosa\n",
              "2           1.3          0.2  Iris-setosa\n",
              "3           1.5          0.2  Iris-setosa\n",
              "4           1.4          0.2  Iris-setosa"
            ],
            "text/html": [
              "\n",
              "  <div id=\"df-5644a2ba-3d44-4a67-9cef-62d7d2becd4c\">\n",
              "    <div class=\"colab-df-container\">\n",
              "      <div>\n",
              "<style scoped>\n",
              "    .dataframe tbody tr th:only-of-type {\n",
              "        vertical-align: middle;\n",
              "    }\n",
              "\n",
              "    .dataframe tbody tr th {\n",
              "        vertical-align: top;\n",
              "    }\n",
              "\n",
              "    .dataframe thead th {\n",
              "        text-align: right;\n",
              "    }\n",
              "</style>\n",
              "<table border=\"1\" class=\"dataframe\">\n",
              "  <thead>\n",
              "    <tr style=\"text-align: right;\">\n",
              "      <th></th>\n",
              "      <th>petal_length</th>\n",
              "      <th>petal_width</th>\n",
              "      <th>class</th>\n",
              "    </tr>\n",
              "  </thead>\n",
              "  <tbody>\n",
              "    <tr>\n",
              "      <th>0</th>\n",
              "      <td>1.4</td>\n",
              "      <td>0.2</td>\n",
              "      <td>Iris-setosa</td>\n",
              "    </tr>\n",
              "    <tr>\n",
              "      <th>1</th>\n",
              "      <td>1.4</td>\n",
              "      <td>0.2</td>\n",
              "      <td>Iris-setosa</td>\n",
              "    </tr>\n",
              "    <tr>\n",
              "      <th>2</th>\n",
              "      <td>1.3</td>\n",
              "      <td>0.2</td>\n",
              "      <td>Iris-setosa</td>\n",
              "    </tr>\n",
              "    <tr>\n",
              "      <th>3</th>\n",
              "      <td>1.5</td>\n",
              "      <td>0.2</td>\n",
              "      <td>Iris-setosa</td>\n",
              "    </tr>\n",
              "    <tr>\n",
              "      <th>4</th>\n",
              "      <td>1.4</td>\n",
              "      <td>0.2</td>\n",
              "      <td>Iris-setosa</td>\n",
              "    </tr>\n",
              "  </tbody>\n",
              "</table>\n",
              "</div>\n",
              "      <button class=\"colab-df-convert\" onclick=\"convertToInteractive('df-5644a2ba-3d44-4a67-9cef-62d7d2becd4c')\"\n",
              "              title=\"Convert this dataframe to an interactive table.\"\n",
              "              style=\"display:none;\">\n",
              "        \n",
              "  <svg xmlns=\"http://www.w3.org/2000/svg\" height=\"24px\"viewBox=\"0 0 24 24\"\n",
              "       width=\"24px\">\n",
              "    <path d=\"M0 0h24v24H0V0z\" fill=\"none\"/>\n",
              "    <path d=\"M18.56 5.44l.94 2.06.94-2.06 2.06-.94-2.06-.94-.94-2.06-.94 2.06-2.06.94zm-11 1L8.5 8.5l.94-2.06 2.06-.94-2.06-.94L8.5 2.5l-.94 2.06-2.06.94zm10 10l.94 2.06.94-2.06 2.06-.94-2.06-.94-.94-2.06-.94 2.06-2.06.94z\"/><path d=\"M17.41 7.96l-1.37-1.37c-.4-.4-.92-.59-1.43-.59-.52 0-1.04.2-1.43.59L10.3 9.45l-7.72 7.72c-.78.78-.78 2.05 0 2.83L4 21.41c.39.39.9.59 1.41.59.51 0 1.02-.2 1.41-.59l7.78-7.78 2.81-2.81c.8-.78.8-2.07 0-2.86zM5.41 20L4 18.59l7.72-7.72 1.47 1.35L5.41 20z\"/>\n",
              "  </svg>\n",
              "      </button>\n",
              "      \n",
              "  <style>\n",
              "    .colab-df-container {\n",
              "      display:flex;\n",
              "      flex-wrap:wrap;\n",
              "      gap: 12px;\n",
              "    }\n",
              "\n",
              "    .colab-df-convert {\n",
              "      background-color: #E8F0FE;\n",
              "      border: none;\n",
              "      border-radius: 50%;\n",
              "      cursor: pointer;\n",
              "      display: none;\n",
              "      fill: #1967D2;\n",
              "      height: 32px;\n",
              "      padding: 0 0 0 0;\n",
              "      width: 32px;\n",
              "    }\n",
              "\n",
              "    .colab-df-convert:hover {\n",
              "      background-color: #E2EBFA;\n",
              "      box-shadow: 0px 1px 2px rgba(60, 64, 67, 0.3), 0px 1px 3px 1px rgba(60, 64, 67, 0.15);\n",
              "      fill: #174EA6;\n",
              "    }\n",
              "\n",
              "    [theme=dark] .colab-df-convert {\n",
              "      background-color: #3B4455;\n",
              "      fill: #D2E3FC;\n",
              "    }\n",
              "\n",
              "    [theme=dark] .colab-df-convert:hover {\n",
              "      background-color: #434B5C;\n",
              "      box-shadow: 0px 1px 3px 1px rgba(0, 0, 0, 0.15);\n",
              "      filter: drop-shadow(0px 1px 2px rgba(0, 0, 0, 0.3));\n",
              "      fill: #FFFFFF;\n",
              "    }\n",
              "  </style>\n",
              "\n",
              "      <script>\n",
              "        const buttonEl =\n",
              "          document.querySelector('#df-5644a2ba-3d44-4a67-9cef-62d7d2becd4c button.colab-df-convert');\n",
              "        buttonEl.style.display =\n",
              "          google.colab.kernel.accessAllowed ? 'block' : 'none';\n",
              "\n",
              "        async function convertToInteractive(key) {\n",
              "          const element = document.querySelector('#df-5644a2ba-3d44-4a67-9cef-62d7d2becd4c');\n",
              "          const dataTable =\n",
              "            await google.colab.kernel.invokeFunction('convertToInteractive',\n",
              "                                                     [key], {});\n",
              "          if (!dataTable) return;\n",
              "\n",
              "          const docLinkHtml = 'Like what you see? Visit the ' +\n",
              "            '<a target=\"_blank\" href=https://colab.research.google.com/notebooks/data_table.ipynb>data table notebook</a>'\n",
              "            + ' to learn more about interactive tables.';\n",
              "          element.innerHTML = '';\n",
              "          dataTable['output_type'] = 'display_data';\n",
              "          await google.colab.output.renderOutput(dataTable, element);\n",
              "          const docLink = document.createElement('div');\n",
              "          docLink.innerHTML = docLinkHtml;\n",
              "          element.appendChild(docLink);\n",
              "        }\n",
              "      </script>\n",
              "    </div>\n",
              "  </div>\n",
              "  "
            ]
          },
          "metadata": {},
          "execution_count": 16
        }
      ],
      "source": [
        "if iris.shape[1] > 3:\n",
        "    iris.drop(['sepal_length', 'sepal_width'], axis = 1, inplace=True)\n",
        "iris.head()"
      ]
    },
    {
      "cell_type": "code",
      "execution_count": null,
      "metadata": {
        "colab": {
          "base_uri": "https://localhost:8080/",
          "height": 206
        },
        "id": "PLHohAz-60Ji",
        "outputId": "60e3c3c9-340d-4781-b639-80f2b9e06eee"
      },
      "outputs": [
        {
          "output_type": "execute_result",
          "data": {
            "text/plain": [
              "    age  height_cm  weight_kg  body fat_%  diastolic  systolic  gripForce  \\\n",
              "0  27.0      172.3      75.24        21.3       80.0     130.0       54.9   \n",
              "1  25.0      165.0      55.80        15.7       77.0     126.0       36.4   \n",
              "2  31.0      179.6      78.00        20.1       92.0     152.0       44.8   \n",
              "3  32.0      174.5      71.10        18.4       76.0     147.0       41.4   \n",
              "4  28.0      173.8      67.70        17.1       70.0     127.0       43.5   \n",
              "\n",
              "   sit and bend forward_cm  sit-ups counts  broad jump_cm class  \n",
              "0                     18.4            60.0          217.0     C  \n",
              "1                     16.3            53.0          229.0     A  \n",
              "2                     12.0            49.0          181.0     C  \n",
              "3                     15.2            53.0          219.0     B  \n",
              "4                     27.1            45.0          217.0     B  "
            ],
            "text/html": [
              "\n",
              "  <div id=\"df-17e55a60-a768-4c3a-adae-14b2dbd16ce2\">\n",
              "    <div class=\"colab-df-container\">\n",
              "      <div>\n",
              "<style scoped>\n",
              "    .dataframe tbody tr th:only-of-type {\n",
              "        vertical-align: middle;\n",
              "    }\n",
              "\n",
              "    .dataframe tbody tr th {\n",
              "        vertical-align: top;\n",
              "    }\n",
              "\n",
              "    .dataframe thead th {\n",
              "        text-align: right;\n",
              "    }\n",
              "</style>\n",
              "<table border=\"1\" class=\"dataframe\">\n",
              "  <thead>\n",
              "    <tr style=\"text-align: right;\">\n",
              "      <th></th>\n",
              "      <th>age</th>\n",
              "      <th>height_cm</th>\n",
              "      <th>weight_kg</th>\n",
              "      <th>body fat_%</th>\n",
              "      <th>diastolic</th>\n",
              "      <th>systolic</th>\n",
              "      <th>gripForce</th>\n",
              "      <th>sit and bend forward_cm</th>\n",
              "      <th>sit-ups counts</th>\n",
              "      <th>broad jump_cm</th>\n",
              "      <th>class</th>\n",
              "    </tr>\n",
              "  </thead>\n",
              "  <tbody>\n",
              "    <tr>\n",
              "      <th>0</th>\n",
              "      <td>27.0</td>\n",
              "      <td>172.3</td>\n",
              "      <td>75.24</td>\n",
              "      <td>21.3</td>\n",
              "      <td>80.0</td>\n",
              "      <td>130.0</td>\n",
              "      <td>54.9</td>\n",
              "      <td>18.4</td>\n",
              "      <td>60.0</td>\n",
              "      <td>217.0</td>\n",
              "      <td>C</td>\n",
              "    </tr>\n",
              "    <tr>\n",
              "      <th>1</th>\n",
              "      <td>25.0</td>\n",
              "      <td>165.0</td>\n",
              "      <td>55.80</td>\n",
              "      <td>15.7</td>\n",
              "      <td>77.0</td>\n",
              "      <td>126.0</td>\n",
              "      <td>36.4</td>\n",
              "      <td>16.3</td>\n",
              "      <td>53.0</td>\n",
              "      <td>229.0</td>\n",
              "      <td>A</td>\n",
              "    </tr>\n",
              "    <tr>\n",
              "      <th>2</th>\n",
              "      <td>31.0</td>\n",
              "      <td>179.6</td>\n",
              "      <td>78.00</td>\n",
              "      <td>20.1</td>\n",
              "      <td>92.0</td>\n",
              "      <td>152.0</td>\n",
              "      <td>44.8</td>\n",
              "      <td>12.0</td>\n",
              "      <td>49.0</td>\n",
              "      <td>181.0</td>\n",
              "      <td>C</td>\n",
              "    </tr>\n",
              "    <tr>\n",
              "      <th>3</th>\n",
              "      <td>32.0</td>\n",
              "      <td>174.5</td>\n",
              "      <td>71.10</td>\n",
              "      <td>18.4</td>\n",
              "      <td>76.0</td>\n",
              "      <td>147.0</td>\n",
              "      <td>41.4</td>\n",
              "      <td>15.2</td>\n",
              "      <td>53.0</td>\n",
              "      <td>219.0</td>\n",
              "      <td>B</td>\n",
              "    </tr>\n",
              "    <tr>\n",
              "      <th>4</th>\n",
              "      <td>28.0</td>\n",
              "      <td>173.8</td>\n",
              "      <td>67.70</td>\n",
              "      <td>17.1</td>\n",
              "      <td>70.0</td>\n",
              "      <td>127.0</td>\n",
              "      <td>43.5</td>\n",
              "      <td>27.1</td>\n",
              "      <td>45.0</td>\n",
              "      <td>217.0</td>\n",
              "      <td>B</td>\n",
              "    </tr>\n",
              "  </tbody>\n",
              "</table>\n",
              "</div>\n",
              "      <button class=\"colab-df-convert\" onclick=\"convertToInteractive('df-17e55a60-a768-4c3a-adae-14b2dbd16ce2')\"\n",
              "              title=\"Convert this dataframe to an interactive table.\"\n",
              "              style=\"display:none;\">\n",
              "        \n",
              "  <svg xmlns=\"http://www.w3.org/2000/svg\" height=\"24px\"viewBox=\"0 0 24 24\"\n",
              "       width=\"24px\">\n",
              "    <path d=\"M0 0h24v24H0V0z\" fill=\"none\"/>\n",
              "    <path d=\"M18.56 5.44l.94 2.06.94-2.06 2.06-.94-2.06-.94-.94-2.06-.94 2.06-2.06.94zm-11 1L8.5 8.5l.94-2.06 2.06-.94-2.06-.94L8.5 2.5l-.94 2.06-2.06.94zm10 10l.94 2.06.94-2.06 2.06-.94-2.06-.94-.94-2.06-.94 2.06-2.06.94z\"/><path d=\"M17.41 7.96l-1.37-1.37c-.4-.4-.92-.59-1.43-.59-.52 0-1.04.2-1.43.59L10.3 9.45l-7.72 7.72c-.78.78-.78 2.05 0 2.83L4 21.41c.39.39.9.59 1.41.59.51 0 1.02-.2 1.41-.59l7.78-7.78 2.81-2.81c.8-.78.8-2.07 0-2.86zM5.41 20L4 18.59l7.72-7.72 1.47 1.35L5.41 20z\"/>\n",
              "  </svg>\n",
              "      </button>\n",
              "      \n",
              "  <style>\n",
              "    .colab-df-container {\n",
              "      display:flex;\n",
              "      flex-wrap:wrap;\n",
              "      gap: 12px;\n",
              "    }\n",
              "\n",
              "    .colab-df-convert {\n",
              "      background-color: #E8F0FE;\n",
              "      border: none;\n",
              "      border-radius: 50%;\n",
              "      cursor: pointer;\n",
              "      display: none;\n",
              "      fill: #1967D2;\n",
              "      height: 32px;\n",
              "      padding: 0 0 0 0;\n",
              "      width: 32px;\n",
              "    }\n",
              "\n",
              "    .colab-df-convert:hover {\n",
              "      background-color: #E2EBFA;\n",
              "      box-shadow: 0px 1px 2px rgba(60, 64, 67, 0.3), 0px 1px 3px 1px rgba(60, 64, 67, 0.15);\n",
              "      fill: #174EA6;\n",
              "    }\n",
              "\n",
              "    [theme=dark] .colab-df-convert {\n",
              "      background-color: #3B4455;\n",
              "      fill: #D2E3FC;\n",
              "    }\n",
              "\n",
              "    [theme=dark] .colab-df-convert:hover {\n",
              "      background-color: #434B5C;\n",
              "      box-shadow: 0px 1px 3px 1px rgba(0, 0, 0, 0.15);\n",
              "      filter: drop-shadow(0px 1px 2px rgba(0, 0, 0, 0.3));\n",
              "      fill: #FFFFFF;\n",
              "    }\n",
              "  </style>\n",
              "\n",
              "      <script>\n",
              "        const buttonEl =\n",
              "          document.querySelector('#df-17e55a60-a768-4c3a-adae-14b2dbd16ce2 button.colab-df-convert');\n",
              "        buttonEl.style.display =\n",
              "          google.colab.kernel.accessAllowed ? 'block' : 'none';\n",
              "\n",
              "        async function convertToInteractive(key) {\n",
              "          const element = document.querySelector('#df-17e55a60-a768-4c3a-adae-14b2dbd16ce2');\n",
              "          const dataTable =\n",
              "            await google.colab.kernel.invokeFunction('convertToInteractive',\n",
              "                                                     [key], {});\n",
              "          if (!dataTable) return;\n",
              "\n",
              "          const docLinkHtml = 'Like what you see? Visit the ' +\n",
              "            '<a target=\"_blank\" href=https://colab.research.google.com/notebooks/data_table.ipynb>data table notebook</a>'\n",
              "            + ' to learn more about interactive tables.';\n",
              "          element.innerHTML = '';\n",
              "          dataTable['output_type'] = 'display_data';\n",
              "          await google.colab.output.renderOutput(dataTable, element);\n",
              "          const docLink = document.createElement('div');\n",
              "          docLink.innerHTML = docLinkHtml;\n",
              "          element.appendChild(docLink);\n",
              "        }\n",
              "      </script>\n",
              "    </div>\n",
              "  </div>\n",
              "  "
            ]
          },
          "metadata": {},
          "execution_count": 28
        }
      ],
      "source": [
        "from sklearn.preprocessing import OneHotEncoder\n",
        "\n",
        "# https://www.kaggle.com/datasets/kukuroo3/body-performance-data\n",
        "body = pd.read_csv('sample_data/bodyPerformance.csv')\n",
        "\n",
        "# transformer le sex en un vecteur de deux elements et supprimer le\n",
        "gender = OneHotEncoder().fit_transform(body[['gender']]).toarray()\n",
        "body.drop(['gender'], axis=1, inplace=True)\n",
        "body.head()"
      ]
    },
    {
      "cell_type": "code",
      "execution_count": null,
      "metadata": {
        "colab": {
          "base_uri": "https://localhost:8080/"
        },
        "id": "XUZZiZaz60Jj",
        "outputId": "7c9477a2-db60-49ae-9fb0-5281221ecebb"
      },
      "outputs": [
        {
          "output_type": "error",
          "ename": "NameError",
          "evalue": "ignored",
          "traceback": [
            "\u001b[0;31m---------------------------------------------------------------------------\u001b[0m",
            "\u001b[0;31mNameError\u001b[0m                                 Traceback (most recent call last)",
            "\u001b[0;32m<ipython-input-13-89f5e934b10e>\u001b[0m in \u001b[0;36m<module>\u001b[0;34m\u001b[0m\n\u001b[1;32m      1\u001b[0m \u001b[0;32mfrom\u001b[0m \u001b[0msklearn\u001b[0m\u001b[0;34m.\u001b[0m\u001b[0mmodel_selection\u001b[0m \u001b[0;32mimport\u001b[0m \u001b[0mtrain_test_split\u001b[0m\u001b[0;34m\u001b[0m\u001b[0;34m\u001b[0m\u001b[0m\n\u001b[1;32m      2\u001b[0m \u001b[0;34m\u001b[0m\u001b[0m\n\u001b[0;32m----> 3\u001b[0;31m \u001b[0mXbody\u001b[0m \u001b[0;34m=\u001b[0m \u001b[0mbody\u001b[0m\u001b[0;34m.\u001b[0m\u001b[0miloc\u001b[0m\u001b[0;34m[\u001b[0m\u001b[0;34m:\u001b[0m\u001b[0;34m,\u001b[0m \u001b[0;34m:\u001b[0m\u001b[0;34m-\u001b[0m\u001b[0;36m1\u001b[0m\u001b[0;34m]\u001b[0m\u001b[0;34m.\u001b[0m\u001b[0mvalues\u001b[0m \u001b[0;31m# Premières colonnes\u001b[0m\u001b[0;34m\u001b[0m\u001b[0;34m\u001b[0m\u001b[0m\n\u001b[0m\u001b[1;32m      4\u001b[0m \u001b[0;34m\u001b[0m\u001b[0m\n\u001b[1;32m      5\u001b[0m \u001b[0;31m# Ajouter le sex encodé aux caractéristiques\u001b[0m\u001b[0;34m\u001b[0m\u001b[0;34m\u001b[0m\u001b[0m\n",
            "\u001b[0;31mNameError\u001b[0m: name 'body' is not defined"
          ]
        }
      ],
      "source": [
        "from sklearn.model_selection import train_test_split\n",
        "\n",
        "Xbody = body.iloc[:, :-1].values # Premières colonnes \n",
        "\n",
        "# Ajouter le sex encodé aux caractéristiques\n",
        "Xbody = np.concatenate((Xbody, gender), axis=1)\n",
        "\n",
        "Ybody = body.iloc[:,  -1].values # Dernière colonne   \n",
        "\n",
        "Xbody_train, Xbody_test, Ybody_train, Ybody_test = train_test_split(Xbody, Ybody, \n",
        "                                                                    test_size   =0.2, # 20% pour le teste\n",
        "                                                                    random_state=0, \n",
        "                                                                    stratify    =Ybody) # stratification sur Yiris\n",
        "\n",
        "\n",
        "Xbody_train.shape, Xbody_test.shape"
      ]
    },
    {
      "cell_type": "markdown",
      "metadata": {
        "id": "sJatojly60Jj"
      },
      "source": [
        "### II.1. Séparabilité des classes\n",
        "\n",
        "Ici, nous allons vérifier la séparabilité des classes visuellement (en se basant sur les deux caractéristiques)."
      ]
    },
    {
      "cell_type": "code",
      "execution_count": null,
      "metadata": {
        "colab": {
          "base_uri": "https://localhost:8080/",
          "height": 280
        },
        "id": "zQlKFD-t60Jk",
        "outputId": "707a16fb-fb3b-4097-d6d8-9bc9d0e8f980"
      },
      "outputs": [
        {
          "output_type": "display_data",
          "data": {
            "text/plain": [
              "<Figure size 432x288 with 1 Axes>"
            ],
            "image/png": "[encoded data removed]"
          },
          "metadata": {
            "needs_background": "light"
          }
        }
      ],
      "source": [
        "Xiris = iris.iloc[:, :-1].values # Premières colonnes \n",
        "\n",
        "Yiris = iris.iloc[:,  -1].values # Dernière colonne \n",
        "\n",
        "setosa     = iris['class'] == 'Iris-setosa'\n",
        "versicolor = iris['class'] == 'Iris-versicolor'\n",
        "virginica  = iris['class'] == 'Iris-virginica'\n",
        "\n",
        "plt.scatter(Xiris[setosa,     0], Xiris[setosa,     1], color='red'  , marker='o', label='Iris-setosa'    )\n",
        "plt.scatter(Xiris[versicolor, 0], Xiris[versicolor, 1], color='blue' , marker='v', label='Iris-versicolor')\n",
        "plt.scatter(Xiris[virginica,  0], Xiris[virginica,  1], color='green', marker='*', label='Iris-virginica' )\n",
        "\n",
        "plt.xlabel('sepal_length')\n",
        "plt.ylabel('sepal_width' )\n",
        "plt.legend()\n",
        "plt.show()"
      ]
    },
    {
      "cell_type": "markdown",
      "metadata": {
        "id": "gy5kVllH60Jk"
      },
      "source": [
        "**TODO : Analyser les résultats**\n",
        "- Que remarquez-vous concernant la séparabilité des 3 classes?\n",
        "- Donner une hypothèse concernant la performance d'un modèle de classement comme la régression logistique sur ce dataset (Rappel, Précision)\n",
        "- Justifier cette hypothèse (Rappel, Précision) en comparant les 3 classes\n",
        "\n",
        "**Réponse**\n",
        "- La  classe iris-setosa est facilement séparable des deux autres, mais il faudra un peu plus d'entrainement pour le modèle afin de séparer les classes iris-virginica et iris-versicolor car ces dernières se chevauchent\n",
        "\n",
        "- L'application de la regression logistique est en mesure d'obtenir une précision et un rappel élevés car le dataset forme un ensemble de données relativement simple qui contient trois classes équillibrés chacunes ayant des caractéristiques distinctes (peux de chevauchement) par example pour la classe iris-setosa on peut atteindre un rappel et une précision =1\n",
        "\n",
        "- Vue que les différentes classes sont relativement distinctes, il est probable que le modèle de régression logistique soit capable de bien distinguer entre les différentes classes et donc de produire des résultats de classification précis. Par conséquent, il est raisonnable de s'attendre à ce que la précision du modèle soit élevée .d'autre part, comme le dataset iris est équilibré, cela signifie que le nombre d'exemples dans chaque classe est à peu près le même. Par conséquent, le modèle sera entraîné sur un nombre égal d'exemples de chaque classe, ce qui devrait aider à minimiser les biais de classe dans les prédictions du modèle , car chaque classe est traitée de manière équivalente pendant l'entraînement.Cela signifie que le rappel du modèle, qui mesure la proportion de vrais positifs (i.e. la capacité à identifier correctement une classe donnée) devrait également être élevé."
      ]
    },
    {
      "cell_type": "code",
      "execution_count": null,
      "metadata": {
        "colab": {
          "base_uri": "https://localhost:8080/"
        },
        "id": "8w8cFeh960Jl",
        "outputId": "6f83f0ce-9a16-4688-946b-e94149ea6059"
      },
      "outputs": [
        {
          "output_type": "execute_result",
          "data": {
            "text/plain": [
              "(120,\n",
              " 30,\n",
              " (array(['Iris-setosa', 'Iris-versicolor', 'Iris-virginica'], dtype=object),\n",
              "  array([10, 10, 10])))"
            ]
          },
          "metadata": {},
          "execution_count": 31
        }
      ],
      "source": [
        "from sklearn.model_selection import train_test_split  \n",
        "\n",
        "Xiris_train, Xiris_test, Yiris_train, Yiris_test = train_test_split(Xiris, Yiris, \n",
        "                                                                    test_size   =0.2, # 20% pour le teste\n",
        "                                                                    random_state=0, \n",
        "                                                                    stratify    =Yiris) # stratification sur Yiris\n",
        "\n",
        "len(Xiris_train), len(Xiris_test), np.unique(Yiris_test, return_counts=True)"
      ]
    },
    {
      "cell_type": "markdown",
      "metadata": {
        "id": "OEn8fwuR60Jm"
      },
      "source": [
        "### II.2. One-vs-Rest OU MaxEnt\n",
        "\n",
        "Nous avons entrainé deux modèles : \n",
        "1. **One-vs-Rest** : ici, trois sous-modèles binaires sont entraînés ; un pour chaque class. Chaque sous modèle détecte si l'échantillon appartient à sa classe ou non. Lors de la prédiction, on prend la classe avec le max de probabilité\n",
        "1. **MaxEnt** : ici, un modèle de régression logistique multinomiale (maximum entropy) est entraîné pour séparer les trois classes\n"
      ]
    },
    {
      "cell_type": "code",
      "execution_count": null,
      "metadata": {
        "colab": {
          "base_uri": "https://localhost:8080/"
        },
        "id": "a6EA5vEu60Jm",
        "outputId": "53392e22-dc6e-4d85-cdd2-2472efb24220"
      },
      "outputs": [
        {
          "output_type": "stream",
          "name": "stdout",
          "text": [
            "One-vs-Rest\n",
            "                 precision    recall  f1-score   support\n",
            "\n",
            "    Iris-setosa       1.00      1.00      1.00        10\n",
            "Iris-versicolor       0.91      1.00      0.95        10\n",
            " Iris-virginica       1.00      0.90      0.95        10\n",
            "\n",
            "       accuracy                           0.97        30\n",
            "      macro avg       0.97      0.97      0.97        30\n",
            "   weighted avg       0.97      0.97      0.97        30\n",
            "\n",
            "MaxEnt\n",
            "                 precision    recall  f1-score   support\n",
            "\n",
            "    Iris-setosa       1.00      1.00      1.00        10\n",
            "Iris-versicolor       1.00      1.00      1.00        10\n",
            " Iris-virginica       1.00      1.00      1.00        10\n",
            "\n",
            "       accuracy                           1.00        30\n",
            "      macro avg       1.00      1.00      1.00        30\n",
            "   weighted avg       1.00      1.00      1.00        30\n",
            "\n"
          ]
        }
      ],
      "source": [
        "from sklearn.linear_model import LogisticRegression\n",
        "from sklearn.metrics import classification_report\n",
        "\n",
        "one2rest = LogisticRegression(solver='lbfgs', penalty=None, multi_class='ovr'        )\n",
        "one2one  = LogisticRegression(solver='lbfgs', penalty=None, multi_class='multinomial')\n",
        "\n",
        "one2rest.fit(Xiris_train, Yiris_train)\n",
        "one2one .fit(Xiris_train, Yiris_train)\n",
        "\n",
        "print('One-vs-Rest')\n",
        "print(classification_report(Yiris_test, one2rest.predict(Xiris_test)))\n",
        "\n",
        "print('MaxEnt')\n",
        "print(classification_report(Yiris_test, one2one.predict(Xiris_test)))"
      ]
    },
    {
      "cell_type": "markdown",
      "metadata": {
        "id": "u3R2tlxP60Jn"
      },
      "source": [
        "**TODO : Analyser les résultats**\n",
        "\n",
        "Nous remarquons que la performance de MaxEnt est meilleure que celle de One-vs-Rest\n",
        "- Pourquoi ? (en se basant sur la limite de décision et les paramètres)\n",
        "- Quelle est l'approche (parmi ces deux) qui est affectée beaucoup plus par les valeurs aberrantes (les échantillons d'une classe qui peuvent se retrouver aux milieu d'une autre classe)\n",
        "\n",
        "**Réponse**\n",
        "-  Maximum Entropy (MaxEnt) est plus robuste que OvR car il est moins sensible aux échantillons qui se trouvent près de la frontière de décision (valeurs aberantes). La raison en est que MaxEntropy prend en compte les différentes classes simultanément lors de la classification, ce qui permet de mieux prendre en compte les relations entre elles et d'améliorer la précision de la classification. Alors que dans l'approche OvR, chaque classe est comparée à toutes les autres classes de manière indépendante, ce qui peut entraîner des conflits et des ambiguïtés dans la classification.\n",
        "\n",
        "- l'approche qui est affecté le plus par les valeurs aberrantes est OvR ,cela est du au fait qu'il traite chaque classe séparément en utilisant des modèles de classification binaires,Par exemple, supposons que nous ayons trois classes : A, B et C. Dans l'approche OvR, nous construisons trois classificateurs binaires : A vs (B+C), B vs (A+C) et C vs (A+B). Si une instance est proche de la frontière entre la classe A et la classe B, elle peut être classée à tort comme appartenant à la classe C, car les classificateurs pour A vs (B+C) et B vs (A+C) peuvent tous les deux avoir des scores faibles pour cette instance."
      ]
    },
    {
      "cell_type": "markdown",
      "metadata": {
        "id": "yTj6fhgn60Jn"
      },
      "source": [
        "### II.3. One-vs-Rest OU One-vs-One\n",
        "\n",
        "Nous avons entrainé deux modèles : \n",
        "1. One-vs-Rest\n",
        "1. One-vs-One\n",
        "\n",
        "Les deux modèles sont comparés en se basant sur plusieurs critères."
      ]
    },
    {
      "cell_type": "code",
      "execution_count": null,
      "metadata": {
        "id": "mhlgLMq860Jo"
      },
      "outputs": [],
      "source": [
        "# https://goshippo.com/blog/measure-real-size-any-python-object/\n",
        "import sys\n",
        "\n",
        "def get_size(obj, seen=None):\n",
        "    \"\"\"Recursively finds size of objects\"\"\"\n",
        "    size = sys.getsizeof(obj)\n",
        "    if seen is None:\n",
        "        seen = set()\n",
        "    obj_id = id(obj)\n",
        "    if obj_id in seen:\n",
        "        return 0\n",
        "    # Important mark as seen *before* entering recursion to gracefully handle\n",
        "    # self-referential objects\n",
        "    seen.add(obj_id)\n",
        "    if isinstance(obj, dict):\n",
        "        size += sum([get_size(v, seen) for v in obj.values()])\n",
        "        size += sum([get_size(k, seen) for k in obj.keys()])\n",
        "    elif hasattr(obj, '__dict__'):\n",
        "        size += get_size(obj.__dict__, seen)\n",
        "    elif hasattr(obj, '__iter__') and not isinstance(obj, (str, bytes, bytearray)):\n",
        "        size += sum([get_size(i, seen) for i in obj])\n",
        "    return size"
      ]
    },
    {
      "cell_type": "code",
      "execution_count": null,
      "metadata": {
        "id": "hvqCkUXC60Jo",
        "outputId": "6533b9cd-68b9-40a3-f103-0481e37bf37d",
        "colab": {
          "base_uri": "https://localhost:8080/",
          "height": 235
        }
      },
      "outputs": [
        {
          "output_type": "error",
          "ename": "NameError",
          "evalue": "ignored",
          "traceback": [
            "\u001b[0;31m---------------------------------------------------------------------------\u001b[0m",
            "\u001b[0;31mNameError\u001b[0m                                 Traceback (most recent call last)",
            "\u001b[0;32m<ipython-input-14-05bb70073303>\u001b[0m in \u001b[0;36m<module>\u001b[0;34m\u001b[0m\n\u001b[1;32m     15\u001b[0m \u001b[0;34m\u001b[0m\u001b[0m\n\u001b[1;32m     16\u001b[0m \u001b[0mtemps_debut\u001b[0m \u001b[0;34m=\u001b[0m \u001b[0mtimeit\u001b[0m\u001b[0;34m.\u001b[0m\u001b[0mdefault_timer\u001b[0m\u001b[0;34m(\u001b[0m\u001b[0;34m)\u001b[0m\u001b[0;34m\u001b[0m\u001b[0;34m\u001b[0m\u001b[0m\n\u001b[0;32m---> 17\u001b[0;31m \u001b[0movr\u001b[0m\u001b[0;34m.\u001b[0m\u001b[0mfit\u001b[0m\u001b[0;34m(\u001b[0m\u001b[0mXbody_train\u001b[0m\u001b[0;34m,\u001b[0m \u001b[0mYbody_train\u001b[0m\u001b[0;34m)\u001b[0m\u001b[0;34m\u001b[0m\u001b[0;34m\u001b[0m\u001b[0m\n\u001b[0m\u001b[1;32m     18\u001b[0m \u001b[0mtemps_train\u001b[0m\u001b[0;34m.\u001b[0m\u001b[0mappend\u001b[0m\u001b[0;34m(\u001b[0m\u001b[0mtimeit\u001b[0m\u001b[0;34m.\u001b[0m\u001b[0mdefault_timer\u001b[0m\u001b[0;34m(\u001b[0m\u001b[0;34m)\u001b[0m \u001b[0;34m-\u001b[0m \u001b[0mtemps_debut\u001b[0m\u001b[0;34m)\u001b[0m\u001b[0;34m\u001b[0m\u001b[0;34m\u001b[0m\u001b[0m\n\u001b[1;32m     19\u001b[0m \u001b[0;34m\u001b[0m\u001b[0m\n",
            "\u001b[0;31mNameError\u001b[0m: name 'Xbody_train' is not defined"
          ]
        }
      ],
      "source": [
        "from sklearn.multiclass import OneVsRestClassifier, OneVsOneClassifier\n",
        "import sys, timeit\n",
        "from sklearn.metrics import accuracy_score\n",
        "\n",
        "# ce block du code est pour filtrer les avertissements concernant la convergence du modèle\n",
        "# en général, lorsque e nombre des itérations n'est pas suffisant pour atteindre l'erreur minimale\n",
        "import warnings\n",
        "from sklearn.exceptions import ConvergenceWarning\n",
        "warnings.filterwarnings('ignore', category=ConvergenceWarning)\n",
        "\n",
        "ovr = OneVsRestClassifier(LogisticRegression(solver='lbfgs', max_iter=100, penalty=None, n_jobs=1))\n",
        "ovo = OneVsOneClassifier (LogisticRegression(solver='lbfgs', max_iter=100, penalty=None, n_jobs=1))\n",
        "\n",
        "temps_train = []\n",
        "\n",
        "temps_debut = timeit.default_timer()\n",
        "ovr.fit(Xbody_train, Ybody_train)\n",
        "temps_train.append(timeit.default_timer() - temps_debut)\n",
        "\n",
        "temps_debut = timeit.default_timer()\n",
        "ovo.fit(Xbody_train, Ybody_train)\n",
        "temps_train.append(timeit.default_timer() - temps_debut)\n",
        "\n",
        "temps_test = []\n",
        "\n",
        "temps_debut = timeit.default_timer()\n",
        "ovr_res = ovr.predict(Xbody_test)\n",
        "temps_test.append(timeit.default_timer() - temps_debut)\n",
        "\n",
        "temps_debut = timeit.default_timer()\n",
        "ovo_res = ovo.predict(Xbody_test)\n",
        "temps_test.append(timeit.default_timer() - temps_debut)\n",
        "\n",
        "taille = [get_size(ovr), get_size(ovo)]\n",
        "\n",
        "accuracy = [\n",
        "    accuracy_score(Ybody_test, ovr_res),\n",
        "    accuracy_score(Ybody_test, ovo_res)\n",
        "]\n",
        "\n",
        "\n",
        "pd.DataFrame({\n",
        "    'Algorithme'            : ['OvR', 'OvO']  ,\n",
        "    'Taille'                : taille,\n",
        "    'Temps d\\'entrainement' : temps_train,\n",
        "    'Temps de test'         : temps_test,\n",
        "    'Accuracy'              : accuracy,\n",
        "})"
      ]
    },
    {
      "cell_type": "markdown",
      "metadata": {
        "id": "-erSJC-h60Jp"
      },
      "source": [
        "**TODO : Analyser les résultats**\n",
        "\n",
        "- Pourquoi la taille OvO est plus grande que celle de OvR ?\n",
        "- Le temps d'entrainement est différent d'une exécution à une autre. Quand est-ce que un modèle est plus rapide que l'autre ?\n",
        "- Par contre, le temps de test OvO est plus lourd. Pourquoi?\n",
        "- Si nous pouvons paralleliser tous les modèles binaires, quel est l'effet sur les deux ?\n",
        "- Pourquoi OvO généralise-t-il mieux que OvR ?\n",
        "- Pouvons-nous utiliser OvR pour multi-label ? Pourquoi ?\n",
        "- Pouvons-nous utiliser OvO pour multi-label ? Pourquoi ?\n",
        "\n",
        "**Réponse**\n",
        "- La taille de OvO est plus grande que OvR car OVO nécessite la formation de N(N-1)/2 modèles binaires pour N classes, tandis que OVR nécessite la formation de N modèles binaires. Ainsi, OVO est plus coûteux en termes de temps et de **mémoire** (pour stocker les paramètres du modèle) que OVR.\n",
        "\n",
        "- Lorsque le nombre de classes est élevé, le nombre de classificateurs binaires requis pour OvO peut devenir très grand, ce qui peut augmenter le temps de calcul et la mémoire nécessaires pour stocker les paramètres de modèle. Dans ce cas, OvR peut être plus rapide et plus efficace car il ne nécessite que k classificateurs binaires.Cependant, lorsque le nombre de classes est relativement petit, le nombre de classificateurs binaires requis pour OvO est plus faible et peut être plus rapide et plus efficace que OvR. En effet, avec OvO, les classificateurs binaires ne sont entraînés que sur des sous-ensembles de données contenant deux classes, ce qui peut être plus rapide que l'entraînement de k classificateurs binaires pour OvR ou chaque classificateur binaire est entraîné sur tout l'ensemble de données.\n",
        "\n",
        "- Le temps de test pour OvO est plus lourd que pour OvR en raison du nombre de classificateurs binaires nécessaires pour OvO. Avec OvO, un classificateur binaire est entraîné pour chaque paire de classes distinctes, ce qui signifie que le nombre total de classificateurs binaires requis est de (K*(K-1))/2, où K est le nombre de classes. Par conséquent, si le nombre de classes est élevé, le nombre de classificateurs binaires requis pour OvO peut devenir très grand, ce qui peut augmenter le temps de prédiction lors du test.Avec OvO, chaque instance de test doit être évaluée par tous les classificateurs binaires, puis le vote majoritaire est utilisé pour déterminer la classe finale. Par conséquent, si le nombre de classes est très grand, le temps de test peut devenir très coûteux en termes de temps de calcul et de ressources nécessaires.\n",
        "En revanche, avec l'approche OvR, chaque instance de test est évaluée par un seul classificateur binaire créé lors de l'entraînement. Ainsi, le temps de test est généralement plus rapide que pour l'approche OvO, même si le nombre de classificateurs binaires créés peut être plus élevé.\n",
        "\n",
        "- Avec OvO, chaque classificateur binaire travaille sur un sous-ensemble de données contenant deux classes, de sorte que chaque classificateur binaire peut être entraîné indépendamment des autres. Si nous pouvons paralléliser l'entraînement de tous les classificateurs binaires, cela peut accélérer considérablement le temps d'entraînement de l'ensemble du modèle.\n",
        "De même, avec OvR, chaque classificateur binaire travaille sur toutes les données à l'exception d'une seule classe. Si nous pouvons paralléliser l'entraînement de chaque classificateur binaire, cela peut également accélérer le temps d'entraînement de l'ensemble du modèle.\n",
        "En résumé, si nous pouvons paralléliser l'entraînement des classificateurs binaires, cela peut accélérer le temps d'entraînement de l'ensemble du modèle pour les deux approches de classification, mais le choix entre OvO et OvR dépendra toujours du nombre de classes et de la taille des données.\n",
        "Cependant, même si nous pouvons paralléliser l'entraînement des classificateurs binaires, le nombre de classificateurs binaires requis pour OvO peut encore être très grand si le nombre de classes est élevé. Dans ce cas, OvR peut toujours être plus efficace en termes de temps d'entraînement et de mémoire requise pour stocker les paramètres du modèle.\n",
        "\n",
        "- L'une des raisons pour lesquelles OvO peut généraliser mieux est qu'il réduit le risque de surajustement (overfitting) par rapport à OvR. En effet, avec OvO, chaque classificateur binaire est entraîné sur un sous-ensemble de données contenant seulement deux classes, ce qui peut être bénéfique lorsque le nombre de classes est élevé et les données sont très hétérogènes. Cela peut permettre aux classificateurs binaires d'être plus adaptés aux caractéristiques spécifiques de chaque paire de classes, plutôt que de créer un seul classificateur pour toutes les classes.\n",
        "En outre, l'approche OvO peut également aider à améliorer la précision globale du modèle, car elle utilise le vote majoritaire pour déterminer la classe finale. Cela peut aider à compenser les erreurs de classification individuelles des classificateurs binaires et améliorer la performance globale du modèle.\n",
        "\n",
        "- oui,La classification multilabel consiste à entraîner un classificateur binaire pour chaque étiquette en considérant cette étiquette par rapport à toutes les autres étiquettes combinées ,mais la méthode OvR suppose que les étiquettes sont indépendantes les unes des autres, ce qui peut ne pas être vrai pour tous les problèmes de classification multi-étiquettes. Dans les cas où les étiquettes sont fortement corrélées cela peut conduire à une performance médiocre.\n",
        "\n",
        "- Oui, on pourrait construire plusieurs classificateurs indépendants et ensuite choisir la classe pour laquelle la confiance est maximisée.\n",
        "cela revient à évaluer l'appartenance de l'instance a plusieurs classes différentes (multilabel)\n",
        "\n",
        "- Non ,Dans la classification multi-label un exemple peut appartenir à plus d'une classe, l'utilisation de la méthode OvO peut devenir coûteuse en termes de calcul et nécessiter l'apprentissage d'un grand nombre de classificateurs, en particulier s'il y a beaucoup de classes."
      ]
    },
    {
      "cell_type": "code",
      "execution_count": null,
      "metadata": {
        "id": "WQgDXR_260Jp",
        "outputId": "5a02e823-219d-4b4c-af4e-a0666612b1e8"
      },
      "outputs": [
        {
          "data": {
            "text/plain": [
              "'FIN du TP ... Enfin! :)'"
            ]
          },
          "execution_count": 19,
          "metadata": {},
          "output_type": "execute_result"
        }
      ],
      "source": [
        "'FIN du TP ... Enfin! :)'"
      ]
    },
    {
      "cell_type": "code",
      "execution_count": null,
      "metadata": {
        "id": "rtlOM4U860Jq"
      },
      "outputs": [],
      "source": []
    }
  ],
  "metadata": {
    "kernelspec": {
      "display_name": "Python 3 (ipykernel)",
      "language": "python",
      "name": "python3"
    },
    "language_info": {
      "codemirror_mode": {
        "name": "ipython",
        "version": 3
      },
      "file_extension": ".py",
      "mimetype": "text/x-python",
      "name": "python",
      "nbconvert_exporter": "python",
      "pygments_lexer": "ipython3",
      "version": "3.10.6"
    },
    "colab": {
      "provenance": []
    }
  },
  "nbformat": 4,
  "nbformat_minor": 0
}